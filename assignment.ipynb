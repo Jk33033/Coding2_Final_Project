{
 "cells": [
  {
   "cell_type": "markdown",
   "metadata": {},
   "source": [
    "# Coding2 Final Project \n",
    "website: booking.com\n",
    "This time, the data of hotels in Germany are used.\n",
    "The characteristics used are name, rating, the number of review, sustainable level, distance from center."
   ]
  },
  {
   "cell_type": "code",
   "execution_count": 1,
   "metadata": {},
   "outputs": [],
   "source": [
    "from scrapethat import *"
   ]
  },
  {
   "cell_type": "code",
   "execution_count": 127,
   "metadata": {},
   "outputs": [],
   "source": [
    "# Create a df\n",
    "def read_one_page(link):\n",
    "    t = read_cloud(link)\n",
    "    name = get_texts(t.select('.a15b38c233'))\n",
    "    #links = get_links(t.select('.aab71f8e4e a')) this time it is not important\n",
    "    rating = get_texts(t.select('.d86cee9b25'))\n",
    "    review = get_texts(t.select('.d935416c47'))\n",
    "    review = [x.replace(' reviews', '') for x in review]\n",
    "    sustainable_level =  get_texts(t.select('.f68ecd98ea'))\n",
    "    sustainable_level = [x.replace('Travel Sustainable Level ', '') for x in sustainable_level] # leave only number\n",
    "    sustainable_level = [x.replace('+', '') for x in sustainable_level] # remove \"+\" to change them into int type\n",
    "    distance =  get_texts(t.select('.f419a93f12 span'))\n",
    "    distance = [item for item in distance if \"km from centre\" in item] #clean the data\n",
    "    distance = [x.replace(' km from centre', '') for x in review] #leave only number\n",
    "    df = pd.DataFrame({'name' : name, 'distance_from_center' : distance, 'rating' : rating, 'review' : review, 'sustainable_level' : sustainable_level})\n",
    "    df['distance_from_center'] = df['distance_from_center'].str.replace(',', '').astype(int) #remove comma, and change them into int\n",
    "    df['rating'] = df['rating'].astype(float) #alter them into float\n",
    "    df['review'] = df['review'].str.replace(',', '').astype(int) #remove comma, and change them into int\n",
    "    df['sustainable_level'] = df['sustainable_level'].astype(int) #alter them into int\n",
    "    return(df)"
   ]
  },
  {
   "cell_type": "code",
   "execution_count": 131,
   "metadata": {},
   "outputs": [
    {
     "data": {
      "text/html": [
       "<div>\n",
       "<style scoped>\n",
       "    .dataframe tbody tr th:only-of-type {\n",
       "        vertical-align: middle;\n",
       "    }\n",
       "\n",
       "    .dataframe tbody tr th {\n",
       "        vertical-align: top;\n",
       "    }\n",
       "\n",
       "    .dataframe thead th {\n",
       "        text-align: right;\n",
       "    }\n",
       "</style>\n",
       "<table border=\"1\" class=\"dataframe\">\n",
       "  <thead>\n",
       "    <tr style=\"text-align: right;\">\n",
       "      <th></th>\n",
       "      <th>name</th>\n",
       "      <th>distance_from_center</th>\n",
       "      <th>rating</th>\n",
       "      <th>review</th>\n",
       "      <th>sustainable_level</th>\n",
       "    </tr>\n",
       "  </thead>\n",
       "  <tbody>\n",
       "    <tr>\n",
       "      <th>0</th>\n",
       "      <td>Holiday Inn Berlin City-West, an IHG Hotel</td>\n",
       "      <td>3006</td>\n",
       "      <td>7.2</td>\n",
       "      <td>3006</td>\n",
       "      <td>2</td>\n",
       "    </tr>\n",
       "    <tr>\n",
       "      <th>1</th>\n",
       "      <td>Locke at East Side Gallery</td>\n",
       "      <td>320</td>\n",
       "      <td>9.2</td>\n",
       "      <td>320</td>\n",
       "      <td>1</td>\n",
       "    </tr>\n",
       "    <tr>\n",
       "      <th>2</th>\n",
       "      <td>Emma by Schulz Hotel Berlin Friedrichshain</td>\n",
       "      <td>57</td>\n",
       "      <td>8.6</td>\n",
       "      <td>57</td>\n",
       "      <td>2</td>\n",
       "    </tr>\n",
       "    <tr>\n",
       "      <th>3</th>\n",
       "      <td>Aspria Berlin Ku'damm</td>\n",
       "      <td>1269</td>\n",
       "      <td>8.0</td>\n",
       "      <td>1269</td>\n",
       "      <td>1</td>\n",
       "    </tr>\n",
       "    <tr>\n",
       "      <th>4</th>\n",
       "      <td>Hollywood Media Hotel am Kurfürstendamm</td>\n",
       "      <td>8344</td>\n",
       "      <td>8.3</td>\n",
       "      <td>8344</td>\n",
       "      <td>2</td>\n",
       "    </tr>\n",
       "    <tr>\n",
       "      <th>5</th>\n",
       "      <td>Hotel ROMY by AMANO</td>\n",
       "      <td>4628</td>\n",
       "      <td>8.3</td>\n",
       "      <td>4628</td>\n",
       "      <td>3</td>\n",
       "    </tr>\n",
       "    <tr>\n",
       "      <th>6</th>\n",
       "      <td>Hotel Berlin, Berlin, a member of Radisson Ind...</td>\n",
       "      <td>12555</td>\n",
       "      <td>7.9</td>\n",
       "      <td>12555</td>\n",
       "      <td>2</td>\n",
       "    </tr>\n",
       "    <tr>\n",
       "      <th>7</th>\n",
       "      <td>Safestay Berlin Kurfurstendamm</td>\n",
       "      <td>2369</td>\n",
       "      <td>7.7</td>\n",
       "      <td>2369</td>\n",
       "      <td>1</td>\n",
       "    </tr>\n",
       "    <tr>\n",
       "      <th>8</th>\n",
       "      <td>Schlosshotel Berlin by Patrick Hellmann</td>\n",
       "      <td>1042</td>\n",
       "      <td>8.7</td>\n",
       "      <td>1042</td>\n",
       "      <td>2</td>\n",
       "    </tr>\n",
       "    <tr>\n",
       "      <th>9</th>\n",
       "      <td>B&amp;B Hotel Berlin-Charlottenburg</td>\n",
       "      <td>3394</td>\n",
       "      <td>7.9</td>\n",
       "      <td>3394</td>\n",
       "      <td>1</td>\n",
       "    </tr>\n",
       "    <tr>\n",
       "      <th>10</th>\n",
       "      <td>City Hotel Berlin East</td>\n",
       "      <td>7846</td>\n",
       "      <td>7.3</td>\n",
       "      <td>7846</td>\n",
       "      <td>1</td>\n",
       "    </tr>\n",
       "    <tr>\n",
       "      <th>11</th>\n",
       "      <td>Quentin Boutique Hotel</td>\n",
       "      <td>1381</td>\n",
       "      <td>6.6</td>\n",
       "      <td>1381</td>\n",
       "      <td>1</td>\n",
       "    </tr>\n",
       "    <tr>\n",
       "      <th>12</th>\n",
       "      <td>B&amp;B Hotel Berlin City-West</td>\n",
       "      <td>2316</td>\n",
       "      <td>7.1</td>\n",
       "      <td>2316</td>\n",
       "      <td>1</td>\n",
       "    </tr>\n",
       "    <tr>\n",
       "      <th>13</th>\n",
       "      <td>Precise Tale Berlin Potsdamer Platz</td>\n",
       "      <td>3649</td>\n",
       "      <td>8.6</td>\n",
       "      <td>3649</td>\n",
       "      <td>1</td>\n",
       "    </tr>\n",
       "    <tr>\n",
       "      <th>14</th>\n",
       "      <td>St Christopher's Inn Berlin Alexanderplatz</td>\n",
       "      <td>3452</td>\n",
       "      <td>7.8</td>\n",
       "      <td>3452</td>\n",
       "      <td>1</td>\n",
       "    </tr>\n",
       "    <tr>\n",
       "      <th>15</th>\n",
       "      <td>Leonardo Boutique Hotel Berlin City South</td>\n",
       "      <td>3026</td>\n",
       "      <td>8.1</td>\n",
       "      <td>3026</td>\n",
       "      <td>3</td>\n",
       "    </tr>\n",
       "    <tr>\n",
       "      <th>16</th>\n",
       "      <td>Upper Room Hotel Kurfürstendamm</td>\n",
       "      <td>6702</td>\n",
       "      <td>7.0</td>\n",
       "      <td>6702</td>\n",
       "      <td>1</td>\n",
       "    </tr>\n",
       "    <tr>\n",
       "      <th>17</th>\n",
       "      <td>Michelberger Hotel</td>\n",
       "      <td>1752</td>\n",
       "      <td>8.3</td>\n",
       "      <td>1752</td>\n",
       "      <td>2</td>\n",
       "    </tr>\n",
       "    <tr>\n",
       "      <th>18</th>\n",
       "      <td>numa I Arc Rooms &amp; Apartments</td>\n",
       "      <td>2367</td>\n",
       "      <td>8.2</td>\n",
       "      <td>2367</td>\n",
       "      <td>2</td>\n",
       "    </tr>\n",
       "    <tr>\n",
       "      <th>19</th>\n",
       "      <td>MEININGER Hotel Berlin Airport</td>\n",
       "      <td>3082</td>\n",
       "      <td>7.6</td>\n",
       "      <td>3082</td>\n",
       "      <td>1</td>\n",
       "    </tr>\n",
       "    <tr>\n",
       "      <th>20</th>\n",
       "      <td>Yggotel Spurv</td>\n",
       "      <td>380</td>\n",
       "      <td>7.9</td>\n",
       "      <td>380</td>\n",
       "      <td>1</td>\n",
       "    </tr>\n",
       "    <tr>\n",
       "      <th>21</th>\n",
       "      <td>Ibis Berlin Hauptbahnhof</td>\n",
       "      <td>5652</td>\n",
       "      <td>8.2</td>\n",
       "      <td>5652</td>\n",
       "      <td>2</td>\n",
       "    </tr>\n",
       "    <tr>\n",
       "      <th>22</th>\n",
       "      <td>TWO Hotel Berlin by Axel - Adults Only</td>\n",
       "      <td>3018</td>\n",
       "      <td>7.9</td>\n",
       "      <td>3018</td>\n",
       "      <td>2</td>\n",
       "    </tr>\n",
       "    <tr>\n",
       "      <th>23</th>\n",
       "      <td>Aeronaut Service Apartments Neukölln-Kreuzberg...</td>\n",
       "      <td>1836</td>\n",
       "      <td>8.1</td>\n",
       "      <td>1836</td>\n",
       "      <td>2</td>\n",
       "    </tr>\n",
       "    <tr>\n",
       "      <th>24</th>\n",
       "      <td>TITANIC Comfort Kurfürstendamm</td>\n",
       "      <td>4620</td>\n",
       "      <td>8.0</td>\n",
       "      <td>4620</td>\n",
       "      <td>1</td>\n",
       "    </tr>\n",
       "    <tr>\n",
       "      <th>25</th>\n",
       "      <td>Hotel AMO by AMANO Friedrichstraße</td>\n",
       "      <td>4065</td>\n",
       "      <td>8.3</td>\n",
       "      <td>4065</td>\n",
       "      <td>3</td>\n",
       "    </tr>\n",
       "  </tbody>\n",
       "</table>\n",
       "</div>"
      ],
      "text/plain": [
       "                                                 name  distance_from_center  \\\n",
       "0          Holiday Inn Berlin City-West, an IHG Hotel                  3006   \n",
       "1                          Locke at East Side Gallery                   320   \n",
       "2          Emma by Schulz Hotel Berlin Friedrichshain                    57   \n",
       "3                               Aspria Berlin Ku'damm                  1269   \n",
       "4             Hollywood Media Hotel am Kurfürstendamm                  8344   \n",
       "5                                 Hotel ROMY by AMANO                  4628   \n",
       "6   Hotel Berlin, Berlin, a member of Radisson Ind...                 12555   \n",
       "7                      Safestay Berlin Kurfurstendamm                  2369   \n",
       "8             Schlosshotel Berlin by Patrick Hellmann                  1042   \n",
       "9                     B&B Hotel Berlin-Charlottenburg                  3394   \n",
       "10                             City Hotel Berlin East                  7846   \n",
       "11                             Quentin Boutique Hotel                  1381   \n",
       "12                         B&B Hotel Berlin City-West                  2316   \n",
       "13                Precise Tale Berlin Potsdamer Platz                  3649   \n",
       "14         St Christopher's Inn Berlin Alexanderplatz                  3452   \n",
       "15          Leonardo Boutique Hotel Berlin City South                  3026   \n",
       "16                    Upper Room Hotel Kurfürstendamm                  6702   \n",
       "17                                 Michelberger Hotel                  1752   \n",
       "18                      numa I Arc Rooms & Apartments                  2367   \n",
       "19                     MEININGER Hotel Berlin Airport                  3082   \n",
       "20                                      Yggotel Spurv                   380   \n",
       "21                           Ibis Berlin Hauptbahnhof                  5652   \n",
       "22             TWO Hotel Berlin by Axel - Adults Only                  3018   \n",
       "23  Aeronaut Service Apartments Neukölln-Kreuzberg...                  1836   \n",
       "24                     TITANIC Comfort Kurfürstendamm                  4620   \n",
       "25                 Hotel AMO by AMANO Friedrichstraße                  4065   \n",
       "\n",
       "    rating  review  sustainable_level  \n",
       "0      7.2    3006                  2  \n",
       "1      9.2     320                  1  \n",
       "2      8.6      57                  2  \n",
       "3      8.0    1269                  1  \n",
       "4      8.3    8344                  2  \n",
       "5      8.3    4628                  3  \n",
       "6      7.9   12555                  2  \n",
       "7      7.7    2369                  1  \n",
       "8      8.7    1042                  2  \n",
       "9      7.9    3394                  1  \n",
       "10     7.3    7846                  1  \n",
       "11     6.6    1381                  1  \n",
       "12     7.1    2316                  1  \n",
       "13     8.6    3649                  1  \n",
       "14     7.8    3452                  1  \n",
       "15     8.1    3026                  3  \n",
       "16     7.0    6702                  1  \n",
       "17     8.3    1752                  2  \n",
       "18     8.2    2367                  2  \n",
       "19     7.6    3082                  1  \n",
       "20     7.9     380                  1  \n",
       "21     8.2    5652                  2  \n",
       "22     7.9    3018                  2  \n",
       "23     8.1    1836                  2  \n",
       "24     8.0    4620                  1  \n",
       "25     8.3    4065                  3  "
      ]
     },
     "execution_count": 131,
     "metadata": {},
     "output_type": "execute_result"
    }
   ],
   "source": [
    "# test it\n",
    "one_page = read_one_page('https://www.booking.com/searchresults.en-gb.html?label=msn-WD*cmG8erZQZoFhA3HRi5w-80539413995128%3Atikwd-80539589630261%3Aloc-10%3Aneo%3Amte%3Alp146488%3Adec%3Aqsbooking.com+login&utm_source=bing&utm_medium=cpc&utm_term=WD*cmG8erZQZoFhA3HRi5w&utm_content=Booking+-+Desktop&utm_campaign=Japanese+JA+ROW&aid=2369666&checkin=2023-12-20&checkout=2023-12-21&dest_id=-1746443&dest_type=city&group_adults=2&req_adults=2&no_rooms=1&group_children=0&req_children=0&lang=en-gb&soz=1&lang_changed=1&nflt=SustainablePropertyLevelFilter%3D1')\n",
    "one_page\n"
   ]
  },
  {
   "cell_type": "code",
   "execution_count": 132,
   "metadata": {},
   "outputs": [
    {
     "data": {
      "text/plain": [
       "['https://www.booking.com/searchresults.en-gb.html?label=msn-WD*cmG8erZQZoFhA3HRi5w-80539413995128%3Atikwd-80539589630261%3Aloc-10%3Aneo%3Amte%3Alp146488%3Adec%3Aqsbooking.com+login&utm_source=bing&utm_medium=cpc&utm_term=WD*cmG8erZQZoFhA3HRi5w&utm_content=Booking+-+Desktop&utm_campaign=Japanese+JA+ROW&aid=2369666&checkin=2023-12-20&checkout=2023-12-21&dest_id=-1746443&dest_type=city&group_adults=2&req_adults=2&no_rooms=1&group_children=0&req_children=0&lang=en-gb&soz=1&lang_changed=1&nflt=SustainablePropertyLevelFilter%3D1',\n",
       " 'https://www.booking.com/searchresults.en-gb.html?label=msn-WD*cmG8erZQZoFhA3HRi5w-80539413995128%3Atikwd-80539589630261%3Aloc-10%3Aneo%3Amte%3Alp146488%3Adec%3Aqsbooking.com+login&utm_source=bing&utm_medium=cpc&utm_term=WD*cmG8erZQZoFhA3HRi5w&utm_content=Booking+-+Desktop&utm_campaign=Japanese+JA+ROW&aid=2369666&checkin=2023-12-20&checkout=2023-12-21&dest_id=-1746443&dest_type=city&group_adults=2&req_adults=2&no_rooms=1&group_children=0&req_children=0&lang=en-gb&soz=1&lang_changed=1&nflt=SustainablePropertyLevelFilter%3D1&offset=25',\n",
       " 'https://www.booking.com/searchresults.en-gb.html?label=msn-WD*cmG8erZQZoFhA3HRi5w-80539413995128%3Atikwd-80539589630261%3Aloc-10%3Aneo%3Amte%3Alp146488%3Adec%3Aqsbooking.com+login&utm_source=bing&utm_medium=cpc&utm_term=WD*cmG8erZQZoFhA3HRi5w&utm_content=Booking+-+Desktop&utm_campaign=Japanese+JA+ROW&aid=2369666&checkin=2023-12-20&checkout=2023-12-21&dest_id=-1746443&dest_type=city&group_adults=2&req_adults=2&no_rooms=1&group_children=0&req_children=0&lang=en-gb&soz=1&lang_changed=1&nflt=SustainablePropertyLevelFilter%3D1&offset=50',\n",
       " 'https://www.booking.com/searchresults.en-gb.html?label=msn-WD*cmG8erZQZoFhA3HRi5w-80539413995128%3Atikwd-80539589630261%3Aloc-10%3Aneo%3Amte%3Alp146488%3Adec%3Aqsbooking.com+login&utm_source=bing&utm_medium=cpc&utm_term=WD*cmG8erZQZoFhA3HRi5w&utm_content=Booking+-+Desktop&utm_campaign=Japanese+JA+ROW&aid=2369666&checkin=2023-12-20&checkout=2023-12-21&dest_id=-1746443&dest_type=city&group_adults=2&req_adults=2&no_rooms=1&group_children=0&req_children=0&lang=en-gb&soz=1&lang_changed=1&nflt=SustainablePropertyLevelFilter%3D1&offset=75',\n",
       " 'https://www.booking.com/searchresults.en-gb.html?label=msn-WD*cmG8erZQZoFhA3HRi5w-80539413995128%3Atikwd-80539589630261%3Aloc-10%3Aneo%3Amte%3Alp146488%3Adec%3Aqsbooking.com+login&utm_source=bing&utm_medium=cpc&utm_term=WD*cmG8erZQZoFhA3HRi5w&utm_content=Booking+-+Desktop&utm_campaign=Japanese+JA+ROW&aid=2369666&checkin=2023-12-20&checkout=2023-12-21&dest_id=-1746443&dest_type=city&group_adults=2&req_adults=2&no_rooms=1&group_children=0&req_children=0&lang=en-gb&soz=1&lang_changed=1&nflt=SustainablePropertyLevelFilter%3D1&offset=100',\n",
       " 'https://www.booking.com/searchresults.en-gb.html?label=msn-WD*cmG8erZQZoFhA3HRi5w-80539413995128%3Atikwd-80539589630261%3Aloc-10%3Aneo%3Amte%3Alp146488%3Adec%3Aqsbooking.com+login&utm_source=bing&utm_medium=cpc&utm_term=WD*cmG8erZQZoFhA3HRi5w&utm_content=Booking+-+Desktop&utm_campaign=Japanese+JA+ROW&aid=2369666&checkin=2023-12-20&checkout=2023-12-21&dest_id=-1746443&dest_type=city&group_adults=2&req_adults=2&no_rooms=1&group_children=0&req_children=0&lang=en-gb&soz=1&lang_changed=1&nflt=SustainablePropertyLevelFilter%3D1&offset=125',\n",
       " 'https://www.booking.com/searchresults.en-gb.html?label=msn-WD*cmG8erZQZoFhA3HRi5w-80539413995128%3Atikwd-80539589630261%3Aloc-10%3Aneo%3Amte%3Alp146488%3Adec%3Aqsbooking.com+login&utm_source=bing&utm_medium=cpc&utm_term=WD*cmG8erZQZoFhA3HRi5w&utm_content=Booking+-+Desktop&utm_campaign=Japanese+JA+ROW&aid=2369666&checkin=2023-12-20&checkout=2023-12-21&dest_id=-1746443&dest_type=city&group_adults=2&req_adults=2&no_rooms=1&group_children=0&req_children=0&lang=en-gb&soz=1&lang_changed=1&nflt=SustainablePropertyLevelFilter%3D1&offset=150',\n",
       " 'https://www.booking.com/searchresults.en-gb.html?label=msn-WD*cmG8erZQZoFhA3HRi5w-80539413995128%3Atikwd-80539589630261%3Aloc-10%3Aneo%3Amte%3Alp146488%3Adec%3Aqsbooking.com+login&utm_source=bing&utm_medium=cpc&utm_term=WD*cmG8erZQZoFhA3HRi5w&utm_content=Booking+-+Desktop&utm_campaign=Japanese+JA+ROW&aid=2369666&checkin=2023-12-20&checkout=2023-12-21&dest_id=-1746443&dest_type=city&group_adults=2&req_adults=2&no_rooms=1&group_children=0&req_children=0&lang=en-gb&soz=1&lang_changed=1&nflt=SustainablePropertyLevelFilter%3D1&offset=175',\n",
       " 'https://www.booking.com/searchresults.en-gb.html?label=msn-WD*cmG8erZQZoFhA3HRi5w-80539413995128%3Atikwd-80539589630261%3Aloc-10%3Aneo%3Amte%3Alp146488%3Adec%3Aqsbooking.com+login&utm_source=bing&utm_medium=cpc&utm_term=WD*cmG8erZQZoFhA3HRi5w&utm_content=Booking+-+Desktop&utm_campaign=Japanese+JA+ROW&aid=2369666&checkin=2023-12-20&checkout=2023-12-21&dest_id=-1746443&dest_type=city&group_adults=2&req_adults=2&no_rooms=1&group_children=0&req_children=0&lang=en-gb&soz=1&lang_changed=1&nflt=SustainablePropertyLevelFilter%3D1&offset=200']"
      ]
     },
     "execution_count": 132,
     "metadata": {},
     "output_type": "execute_result"
    }
   ],
   "source": [
    "#make a list of all linkks including more than 200 listings\n",
    "all_links = ['https://www.booking.com/searchresults.en-gb.html?label=msn-WD*cmG8erZQZoFhA3HRi5w-80539413995128%3Atikwd-80539589630261%3Aloc-10%3Aneo%3Amte%3Alp146488%3Adec%3Aqsbooking.com+login&utm_source=bing&utm_medium=cpc&utm_term=WD*cmG8erZQZoFhA3HRi5w&utm_content=Booking+-+Desktop&utm_campaign=Japanese+JA+ROW&aid=2369666&checkin=2023-12-20&checkout=2023-12-21&dest_id=-1746443&dest_type=city&group_adults=2&req_adults=2&no_rooms=1&group_children=0&req_children=0&lang=en-gb&soz=1&lang_changed=1&nflt=SustainablePropertyLevelFilter%3D1']\n",
    "\n",
    "links = [f'https://www.booking.com/searchresults.en-gb.html?label=msn-WD*cmG8erZQZoFhA3HRi5w-80539413995128%3Atikwd-80539589630261%3Aloc-10%3Aneo%3Amte%3Alp146488%3Adec%3Aqsbooking.com+login&utm_source=bing&utm_medium=cpc&utm_term=WD*cmG8erZQZoFhA3HRi5w&utm_content=Booking+-+Desktop&utm_campaign=Japanese+JA+ROW&aid=2369666&checkin=2023-12-20&checkout=2023-12-21&dest_id=-1746443&dest_type=city&group_adults=2&req_adults=2&no_rooms=1&group_children=0&req_children=0&lang=en-gb&soz=1&lang_changed=1&nflt=SustainablePropertyLevelFilter%3D1&offset={x}' for x in [25, 50, 75, 100, 125, 150, 175, 200]]\n",
    "\n",
    "all_links.extend(links)\n",
    "all_links"
   ]
  },
  {
   "cell_type": "code",
   "execution_count": 140,
   "metadata": {},
   "outputs": [],
   "source": [
    "#make a list of all data frames\n",
    "list_of_dfs = []\n",
    "list_of_dfs.append(one_page)"
   ]
  },
  {
   "cell_type": "code",
   "execution_count": 144,
   "metadata": {},
   "outputs": [
    {
     "data": {
      "text/plain": [
       "[                                                 name  distance_from_center  \\\n",
       " 0          Holiday Inn Berlin City-West, an IHG Hotel                  3006   \n",
       " 1                          Locke at East Side Gallery                   320   \n",
       " 2          Emma by Schulz Hotel Berlin Friedrichshain                    57   \n",
       " 3                               Aspria Berlin Ku'damm                  1269   \n",
       " 4             Hollywood Media Hotel am Kurfürstendamm                  8344   \n",
       " 5                                 Hotel ROMY by AMANO                  4628   \n",
       " 6   Hotel Berlin, Berlin, a member of Radisson Ind...                 12555   \n",
       " 7                      Safestay Berlin Kurfurstendamm                  2369   \n",
       " 8             Schlosshotel Berlin by Patrick Hellmann                  1042   \n",
       " 9                     B&B Hotel Berlin-Charlottenburg                  3394   \n",
       " 10                             City Hotel Berlin East                  7846   \n",
       " 11                             Quentin Boutique Hotel                  1381   \n",
       " 12                         B&B Hotel Berlin City-West                  2316   \n",
       " 13                Precise Tale Berlin Potsdamer Platz                  3649   \n",
       " 14         St Christopher's Inn Berlin Alexanderplatz                  3452   \n",
       " 15          Leonardo Boutique Hotel Berlin City South                  3026   \n",
       " 16                    Upper Room Hotel Kurfürstendamm                  6702   \n",
       " 17                                 Michelberger Hotel                  1752   \n",
       " 18                      numa I Arc Rooms & Apartments                  2367   \n",
       " 19                     MEININGER Hotel Berlin Airport                  3082   \n",
       " 20                                      Yggotel Spurv                   380   \n",
       " 21                           Ibis Berlin Hauptbahnhof                  5652   \n",
       " 22             TWO Hotel Berlin by Axel - Adults Only                  3018   \n",
       " 23  Aeronaut Service Apartments Neukölln-Kreuzberg...                  1836   \n",
       " 24                     TITANIC Comfort Kurfürstendamm                  4620   \n",
       " 25                 Hotel AMO by AMANO Friedrichstraße                  4065   \n",
       " \n",
       "     rating  review  sustainable_level  \n",
       " 0      7.2    3006                  2  \n",
       " 1      9.2     320                  1  \n",
       " 2      8.6      57                  2  \n",
       " 3      8.0    1269                  1  \n",
       " 4      8.3    8344                  2  \n",
       " 5      8.3    4628                  3  \n",
       " 6      7.9   12555                  2  \n",
       " 7      7.7    2369                  1  \n",
       " 8      8.7    1042                  2  \n",
       " 9      7.9    3394                  1  \n",
       " 10     7.3    7846                  1  \n",
       " 11     6.6    1381                  1  \n",
       " 12     7.1    2316                  1  \n",
       " 13     8.6    3649                  1  \n",
       " 14     7.8    3452                  1  \n",
       " 15     8.1    3026                  3  \n",
       " 16     7.0    6702                  1  \n",
       " 17     8.3    1752                  2  \n",
       " 18     8.2    2367                  2  \n",
       " 19     7.6    3082                  1  \n",
       " 20     7.9     380                  1  \n",
       " 21     8.2    5652                  2  \n",
       " 22     7.9    3018                  2  \n",
       " 23     8.1    1836                  2  \n",
       " 24     8.0    4620                  1  \n",
       " 25     8.3    4065                  3  ,\n",
       "                                                  name  distance_from_center  \\\n",
       " 0                                  Nena Hostel Berlin                  3142   \n",
       " 1                           B&B Hotel Berlin City-Ost                  1853   \n",
       " 2                       TITANIC Gendarmenmarkt Berlin                  5718   \n",
       " 3                          Quentin XL Potsdamer Platz                  3626   \n",
       " 4   Hampton by Hilton Berlin City Centre Alexander...                 13498   \n",
       " 5                              B&B HOTEL Berlin-Mitte                   186   \n",
       " 6                                   SANA Berlin Hotel                  4583   \n",
       " 7                       Leonardo Hotel Berlin KU'DAMM                  7425   \n",
       " 8                          Locke at East Side Gallery                   320   \n",
       " 9                      Scandic Berlin Potsdamer Platz                 13011   \n",
       " 10                             Quentin Boutique Hotel                  1381   \n",
       " 11  Nena Apartments Metropolpark Berlin - Mitte -A...                  1829   \n",
       " 12                       Maritim proArte Hotel Berlin                 10530   \n",
       " 13                                       Meliá Berlin                  6840   \n",
       " 14                                 Michelberger Hotel                  1752   \n",
       " 15                       aletto Hotel Potsdamer Platz                  8170   \n",
       " 16                                           Hotel 38                  3795   \n",
       " 17                     MEININGER Hotel Berlin Airport                  3082   \n",
       " 18                   Novum Hotel Aldea Berlin Centrum                  8766   \n",
       " 19                              ARCOTEL John F Berlin                  4857   \n",
       " 20         Leonardo Royal Hotel Berlin Alexanderplatz                 10567   \n",
       " 21                    B&B Hotel Berlin-Charlottenburg                  3394   \n",
       " 22      Provocateur Berlin, a Member of Design Hotels                  1225   \n",
       " 23          Leonardo Boutique Hotel Berlin City South                  3026   \n",
       " 24                      numa I Arc Rooms & Apartments                  2367   \n",
       " \n",
       "     rating  review  sustainable_level  \n",
       " 0      7.8    3142                  2  \n",
       " 1      7.5    1853                  3  \n",
       " 2      8.5    5718                  1  \n",
       " 3      7.2    3626                  2  \n",
       " 4      8.1   13498                  3  \n",
       " 5      7.8     186                  2  \n",
       " 6      8.5    4583                  2  \n",
       " 7      8.0    7425                  3  \n",
       " 8      9.2     320                  1  \n",
       " 9      8.1   13011                  3  \n",
       " 10     6.6    1381                  1  \n",
       " 11     8.1    1829                  2  \n",
       " 12     8.0   10530                  1  \n",
       " 13     8.4    6840                  3  \n",
       " 14     8.3    1752                  2  \n",
       " 15     8.7    8170                  3  \n",
       " 16     8.3    3795                  1  \n",
       " 17     7.6    3082                  1  \n",
       " 18     7.1    8766                  3  \n",
       " 19     8.2    4857                  3  \n",
       " 20     8.4   10567                  3  \n",
       " 21     7.9    3394                  1  \n",
       " 22     8.7    1225                  1  \n",
       " 23     8.1    3026                  3  \n",
       " 24     8.2    2367                  2  ]"
      ]
     },
     "execution_count": 144,
     "metadata": {},
     "output_type": "execute_result"
    }
   ],
   "source": [
    "#add second data frame\n",
    "list_of_dfs.append(read_one_page(all_links[1]))\n",
    "list_of_dfs"
   ]
  },
  {
   "cell_type": "code",
   "execution_count": 157,
   "metadata": {},
   "outputs": [],
   "source": [
    "#add the other data frame\n",
    "list_of_dfs.append(read_one_page(all_links[2]))\n",
    "list_of_dfs.append(read_one_page(all_links[3]))\n",
    "list_of_dfs.append(read_one_page(all_links[4]))\n",
    "list_of_dfs.append(read_one_page(all_links[5]))\n",
    "list_of_dfs.append(read_one_page(all_links[6]))\n",
    "list_of_dfs.append(read_one_page(all_links[7]))\n",
    "list_of_dfs.append(read_one_page(all_links[8]))"
   ]
  },
  {
   "cell_type": "code",
   "execution_count": 160,
   "metadata": {},
   "outputs": [],
   "source": [
    "# combine them into one\n",
    "df = pd.concat(list_of_dfs, axis=\"rows\").reset_index(drop=True)"
   ]
  },
  {
   "cell_type": "code",
   "execution_count": 162,
   "metadata": {},
   "outputs": [
    {
     "data": {
      "text/html": [
       "<div>\n",
       "<style scoped>\n",
       "    .dataframe tbody tr th:only-of-type {\n",
       "        vertical-align: middle;\n",
       "    }\n",
       "\n",
       "    .dataframe tbody tr th {\n",
       "        vertical-align: top;\n",
       "    }\n",
       "\n",
       "    .dataframe thead th {\n",
       "        text-align: right;\n",
       "    }\n",
       "</style>\n",
       "<table border=\"1\" class=\"dataframe\">\n",
       "  <thead>\n",
       "    <tr style=\"text-align: right;\">\n",
       "      <th></th>\n",
       "      <th>name</th>\n",
       "      <th>distance_from_center</th>\n",
       "      <th>rating</th>\n",
       "      <th>review</th>\n",
       "      <th>sustainable_level</th>\n",
       "    </tr>\n",
       "  </thead>\n",
       "  <tbody>\n",
       "    <tr>\n",
       "      <th>0</th>\n",
       "      <td>Holiday Inn Berlin City-West, an IHG Hotel</td>\n",
       "      <td>3006</td>\n",
       "      <td>7.2</td>\n",
       "      <td>3006</td>\n",
       "      <td>2</td>\n",
       "    </tr>\n",
       "    <tr>\n",
       "      <th>1</th>\n",
       "      <td>Locke at East Side Gallery</td>\n",
       "      <td>320</td>\n",
       "      <td>9.2</td>\n",
       "      <td>320</td>\n",
       "      <td>1</td>\n",
       "    </tr>\n",
       "    <tr>\n",
       "      <th>2</th>\n",
       "      <td>Emma by Schulz Hotel Berlin Friedrichshain</td>\n",
       "      <td>57</td>\n",
       "      <td>8.6</td>\n",
       "      <td>57</td>\n",
       "      <td>2</td>\n",
       "    </tr>\n",
       "    <tr>\n",
       "      <th>3</th>\n",
       "      <td>Aspria Berlin Ku'damm</td>\n",
       "      <td>1269</td>\n",
       "      <td>8.0</td>\n",
       "      <td>1269</td>\n",
       "      <td>1</td>\n",
       "    </tr>\n",
       "    <tr>\n",
       "      <th>4</th>\n",
       "      <td>Hollywood Media Hotel am Kurfürstendamm</td>\n",
       "      <td>8344</td>\n",
       "      <td>8.3</td>\n",
       "      <td>8344</td>\n",
       "      <td>2</td>\n",
       "    </tr>\n",
       "    <tr>\n",
       "      <th>...</th>\n",
       "      <td>...</td>\n",
       "      <td>...</td>\n",
       "      <td>...</td>\n",
       "      <td>...</td>\n",
       "      <td>...</td>\n",
       "    </tr>\n",
       "    <tr>\n",
       "      <th>221</th>\n",
       "      <td>Anna 1908</td>\n",
       "      <td>1719</td>\n",
       "      <td>8.5</td>\n",
       "      <td>1719</td>\n",
       "      <td>1</td>\n",
       "    </tr>\n",
       "    <tr>\n",
       "      <th>222</th>\n",
       "      <td>KPM Hotel &amp; Residences</td>\n",
       "      <td>2189</td>\n",
       "      <td>9.2</td>\n",
       "      <td>2189</td>\n",
       "      <td>3</td>\n",
       "    </tr>\n",
       "    <tr>\n",
       "      <th>223</th>\n",
       "      <td>MEININGER Hotel Berlin Tiergarten</td>\n",
       "      <td>7821</td>\n",
       "      <td>8.0</td>\n",
       "      <td>7821</td>\n",
       "      <td>2</td>\n",
       "    </tr>\n",
       "    <tr>\n",
       "      <th>224</th>\n",
       "      <td>about:berlin Hotel</td>\n",
       "      <td>3635</td>\n",
       "      <td>8.6</td>\n",
       "      <td>3635</td>\n",
       "      <td>1</td>\n",
       "    </tr>\n",
       "    <tr>\n",
       "      <th>225</th>\n",
       "      <td>Ku'Damm 101 Hotel</td>\n",
       "      <td>1554</td>\n",
       "      <td>8.0</td>\n",
       "      <td>1554</td>\n",
       "      <td>1</td>\n",
       "    </tr>\n",
       "  </tbody>\n",
       "</table>\n",
       "<p>226 rows × 5 columns</p>\n",
       "</div>"
      ],
      "text/plain": [
       "                                           name  distance_from_center  rating  \\\n",
       "0    Holiday Inn Berlin City-West, an IHG Hotel                  3006     7.2   \n",
       "1                    Locke at East Side Gallery                   320     9.2   \n",
       "2    Emma by Schulz Hotel Berlin Friedrichshain                    57     8.6   \n",
       "3                         Aspria Berlin Ku'damm                  1269     8.0   \n",
       "4       Hollywood Media Hotel am Kurfürstendamm                  8344     8.3   \n",
       "..                                          ...                   ...     ...   \n",
       "221                                   Anna 1908                  1719     8.5   \n",
       "222                      KPM Hotel & Residences                  2189     9.2   \n",
       "223           MEININGER Hotel Berlin Tiergarten                  7821     8.0   \n",
       "224                          about:berlin Hotel                  3635     8.6   \n",
       "225                           Ku'Damm 101 Hotel                  1554     8.0   \n",
       "\n",
       "     review  sustainable_level  \n",
       "0      3006                  2  \n",
       "1       320                  1  \n",
       "2        57                  2  \n",
       "3      1269                  1  \n",
       "4      8344                  2  \n",
       "..      ...                ...  \n",
       "221    1719                  1  \n",
       "222    2189                  3  \n",
       "223    7821                  2  \n",
       "224    3635                  1  \n",
       "225    1554                  1  \n",
       "\n",
       "[226 rows x 5 columns]"
      ]
     },
     "execution_count": 162,
     "metadata": {},
     "output_type": "execute_result"
    }
   ],
   "source": [
    "df"
   ]
  },
  {
   "cell_type": "code",
   "execution_count": 161,
   "metadata": {},
   "outputs": [],
   "source": [
    "# save this data frame as csv\n",
    "file_path = 'hotels_data.csv'\n",
    "df.to_csv(file_path, index=False)"
   ]
  },
  {
   "cell_type": "code",
   "execution_count": 166,
   "metadata": {},
   "outputs": [],
   "source": [
    "import plotly.express as px\n",
    "\n",
    "# read this DataFrame\n",
    "csv_file_path = 'hotels_data.csv' \n",
    "df = pd.read_csv(csv_file_path)\n",
    "\n",
    "# Create plots\n",
    "# 1. Histogram: Distribution of Hotel Ratings\n",
    "fig1 = px.histogram(df, x='rating', nbins=20, title='Distribution of Hotel Ratings')\n",
    "\n",
    "# 2. Scatter Plot: Relationship between Distance from Center and Rating\n",
    "fig2 = px.scatter(df, x='distance_from_center', y='rating', title='Distance from Center vs. Rating')\n",
    "\n",
    "# 3. Box Plot: Distribution of Ratings by Sustainability Level\n",
    "fig3 = px.box(df, x='sustainable_level', y='rating', title='Ratings Distribution by Sustainability Level')\n",
    "\n",
    "# 4. Bar Chart: Number of Hotels by Sustainability Level\n",
    "# Create a DataFrame for the bar chart to correct the 'x' value error\n",
    "sustainable_level_count = df['sustainable_level'].value_counts().reset_index()\n",
    "sustainable_level_count.columns = ['sustainable_level', 'count']\n",
    "# Corrected Bar Chart: Number of Hotels by Sustainability Level\n",
    "fig4 = px.bar(sustainable_level_count, \n",
    "                        x='sustainable_level', y='count', \n",
    "                        title='Number of Hotels by Sustainability Level')\n",
    "\n",
    "\n",
    "# 5. Line Chart: Rating Changes of Top 10 Reviewed Hotels (based on sample data)\n",
    "top_reviews_hotels = df.nlargest(10, 'review')\n",
    "fig5 = px.line(top_reviews_hotels, x='name', y='rating', title='Rating Changes of Top 10 Reviewed Hotels')"
   ]
  },
  {
   "cell_type": "markdown",
   "metadata": {},
   "source": [
    "# Histogram: Distribution of Hotel Ratings\n",
    "Many hotels have ratings between 8 and 8.5, making this range quite popular. The overall ratings for hotels show a wide spread, starting as low as 6.5 and reaching up to 9.0. This indicates a diverse range of guest experiences and satisfaction levels across different hotels."
   ]
  },
  {
   "cell_type": "code",
   "execution_count": 167,
   "metadata": {},
   "outputs": [
    {
     "data": {
      "application/vnd.plotly.v1+json": {
       "config": {
        "plotlyServerURL": "https://plot.ly"
       },
       "data": [
        {
         "alignmentgroup": "True",
         "bingroup": "x",
         "hovertemplate": "rating=%{x}<br>count=%{y}<extra></extra>",
         "legendgroup": "",
         "marker": {
          "color": "#636efa",
          "pattern": {
           "shape": ""
          }
         },
         "name": "",
         "nbinsx": 20,
         "offsetgroup": "",
         "orientation": "v",
         "showlegend": false,
         "type": "histogram",
         "x": [
          7.2,
          9.2,
          8.6,
          8,
          8.3,
          8.3,
          7.9,
          7.7,
          8.7,
          7.9,
          7.3,
          6.6,
          7.1,
          8.6,
          7.8,
          8.1,
          7,
          8.3,
          8.2,
          7.6,
          7.9,
          8.2,
          7.9,
          8.1,
          8,
          8.3,
          7.8,
          7.5,
          8.5,
          7.2,
          8.1,
          7.8,
          8.5,
          8,
          9.2,
          8.1,
          6.6,
          8.1,
          8,
          8.4,
          8.3,
          8.7,
          8.3,
          7.6,
          7.1,
          8.2,
          8.4,
          7.9,
          8.7,
          8.1,
          8.2,
          7.9,
          8.7,
          8.3,
          7.6,
          7.1,
          8.6,
          8.2,
          8.4,
          7.9,
          8.7,
          8.1,
          8.2,
          8.2,
          8.3,
          7.9,
          8.1,
          8.1,
          8,
          8.6,
          8.1,
          7.3,
          8.1,
          8.9,
          7.3,
          8.3,
          8.1,
          7.2,
          6.7,
          8.5,
          8.1,
          8.5,
          7.7,
          7.6,
          8.1,
          7.5,
          8,
          8.5,
          8.7,
          7.6,
          7.7,
          8.3,
          8.8,
          8,
          7.9,
          8.7,
          8.2,
          7,
          8.6,
          8.3,
          7.5,
          8.4,
          9,
          7.6,
          8.7,
          7.5,
          8.9,
          8.3,
          8.5,
          6.7,
          7.6,
          8.1,
          7.7,
          8.1,
          8.5,
          7.3,
          6.6,
          8.3,
          8.4,
          7.4,
          8.5,
          8.4,
          8.7,
          7.9,
          8.3,
          8.3,
          8.5,
          8.4,
          8.7,
          7.9,
          8.3,
          8.3,
          7.8,
          7.2,
          7.4,
          7.1,
          7.8,
          7.4,
          8.1,
          7.2,
          8.9,
          8.7,
          8.4,
          7.5,
          7.3,
          8.5,
          8.3,
          7.6,
          8.1,
          8.6,
          8.8,
          8.8,
          8.8,
          8.3,
          8.1,
          7.7,
          8,
          7.8,
          7.3,
          8.3,
          7.5,
          8.2,
          8.1,
          6.6,
          8.4,
          8.2,
          7.2,
          8.5,
          8.3,
          7.6,
          7.6,
          7.2,
          8.5,
          8,
          9.2,
          7.4,
          6.6,
          8.4,
          8.2,
          7.6,
          8.5,
          6.9,
          6.8,
          7.8,
          8.8,
          8.5,
          8.2,
          8.7,
          8.6,
          8.4,
          7.8,
          8.2,
          8.1,
          8.3,
          9.2,
          8.2,
          8.1,
          6.4,
          8.8,
          8,
          8.4,
          7.9,
          8.1,
          8.3,
          6.9,
          7.6,
          8.4,
          8.4,
          8.9,
          8.4,
          6.8,
          8.6,
          7.6,
          8,
          8.2,
          6.9,
          8.2,
          8.9,
          7.8,
          8.6,
          8.6,
          8.5,
          9.2,
          8,
          8.6,
          8
         ],
         "xaxis": "x",
         "yaxis": "y"
        }
       ],
       "layout": {
        "barmode": "relative",
        "legend": {
         "tracegroupgap": 0
        },
        "template": {
         "data": {
          "bar": [
           {
            "error_x": {
             "color": "#2a3f5f"
            },
            "error_y": {
             "color": "#2a3f5f"
            },
            "marker": {
             "line": {
              "color": "#E5ECF6",
              "width": 0.5
             },
             "pattern": {
              "fillmode": "overlay",
              "size": 10,
              "solidity": 0.2
             }
            },
            "type": "bar"
           }
          ],
          "barpolar": [
           {
            "marker": {
             "line": {
              "color": "#E5ECF6",
              "width": 0.5
             },
             "pattern": {
              "fillmode": "overlay",
              "size": 10,
              "solidity": 0.2
             }
            },
            "type": "barpolar"
           }
          ],
          "carpet": [
           {
            "aaxis": {
             "endlinecolor": "#2a3f5f",
             "gridcolor": "white",
             "linecolor": "white",
             "minorgridcolor": "white",
             "startlinecolor": "#2a3f5f"
            },
            "baxis": {
             "endlinecolor": "#2a3f5f",
             "gridcolor": "white",
             "linecolor": "white",
             "minorgridcolor": "white",
             "startlinecolor": "#2a3f5f"
            },
            "type": "carpet"
           }
          ],
          "choropleth": [
           {
            "colorbar": {
             "outlinewidth": 0,
             "ticks": ""
            },
            "type": "choropleth"
           }
          ],
          "contour": [
           {
            "colorbar": {
             "outlinewidth": 0,
             "ticks": ""
            },
            "colorscale": [
             [
              0,
              "#0d0887"
             ],
             [
              0.1111111111111111,
              "#46039f"
             ],
             [
              0.2222222222222222,
              "#7201a8"
             ],
             [
              0.3333333333333333,
              "#9c179e"
             ],
             [
              0.4444444444444444,
              "#bd3786"
             ],
             [
              0.5555555555555556,
              "#d8576b"
             ],
             [
              0.6666666666666666,
              "#ed7953"
             ],
             [
              0.7777777777777778,
              "#fb9f3a"
             ],
             [
              0.8888888888888888,
              "#fdca26"
             ],
             [
              1,
              "#f0f921"
             ]
            ],
            "type": "contour"
           }
          ],
          "contourcarpet": [
           {
            "colorbar": {
             "outlinewidth": 0,
             "ticks": ""
            },
            "type": "contourcarpet"
           }
          ],
          "heatmap": [
           {
            "colorbar": {
             "outlinewidth": 0,
             "ticks": ""
            },
            "colorscale": [
             [
              0,
              "#0d0887"
             ],
             [
              0.1111111111111111,
              "#46039f"
             ],
             [
              0.2222222222222222,
              "#7201a8"
             ],
             [
              0.3333333333333333,
              "#9c179e"
             ],
             [
              0.4444444444444444,
              "#bd3786"
             ],
             [
              0.5555555555555556,
              "#d8576b"
             ],
             [
              0.6666666666666666,
              "#ed7953"
             ],
             [
              0.7777777777777778,
              "#fb9f3a"
             ],
             [
              0.8888888888888888,
              "#fdca26"
             ],
             [
              1,
              "#f0f921"
             ]
            ],
            "type": "heatmap"
           }
          ],
          "heatmapgl": [
           {
            "colorbar": {
             "outlinewidth": 0,
             "ticks": ""
            },
            "colorscale": [
             [
              0,
              "#0d0887"
             ],
             [
              0.1111111111111111,
              "#46039f"
             ],
             [
              0.2222222222222222,
              "#7201a8"
             ],
             [
              0.3333333333333333,
              "#9c179e"
             ],
             [
              0.4444444444444444,
              "#bd3786"
             ],
             [
              0.5555555555555556,
              "#d8576b"
             ],
             [
              0.6666666666666666,
              "#ed7953"
             ],
             [
              0.7777777777777778,
              "#fb9f3a"
             ],
             [
              0.8888888888888888,
              "#fdca26"
             ],
             [
              1,
              "#f0f921"
             ]
            ],
            "type": "heatmapgl"
           }
          ],
          "histogram": [
           {
            "marker": {
             "pattern": {
              "fillmode": "overlay",
              "size": 10,
              "solidity": 0.2
             }
            },
            "type": "histogram"
           }
          ],
          "histogram2d": [
           {
            "colorbar": {
             "outlinewidth": 0,
             "ticks": ""
            },
            "colorscale": [
             [
              0,
              "#0d0887"
             ],
             [
              0.1111111111111111,
              "#46039f"
             ],
             [
              0.2222222222222222,
              "#7201a8"
             ],
             [
              0.3333333333333333,
              "#9c179e"
             ],
             [
              0.4444444444444444,
              "#bd3786"
             ],
             [
              0.5555555555555556,
              "#d8576b"
             ],
             [
              0.6666666666666666,
              "#ed7953"
             ],
             [
              0.7777777777777778,
              "#fb9f3a"
             ],
             [
              0.8888888888888888,
              "#fdca26"
             ],
             [
              1,
              "#f0f921"
             ]
            ],
            "type": "histogram2d"
           }
          ],
          "histogram2dcontour": [
           {
            "colorbar": {
             "outlinewidth": 0,
             "ticks": ""
            },
            "colorscale": [
             [
              0,
              "#0d0887"
             ],
             [
              0.1111111111111111,
              "#46039f"
             ],
             [
              0.2222222222222222,
              "#7201a8"
             ],
             [
              0.3333333333333333,
              "#9c179e"
             ],
             [
              0.4444444444444444,
              "#bd3786"
             ],
             [
              0.5555555555555556,
              "#d8576b"
             ],
             [
              0.6666666666666666,
              "#ed7953"
             ],
             [
              0.7777777777777778,
              "#fb9f3a"
             ],
             [
              0.8888888888888888,
              "#fdca26"
             ],
             [
              1,
              "#f0f921"
             ]
            ],
            "type": "histogram2dcontour"
           }
          ],
          "mesh3d": [
           {
            "colorbar": {
             "outlinewidth": 0,
             "ticks": ""
            },
            "type": "mesh3d"
           }
          ],
          "parcoords": [
           {
            "line": {
             "colorbar": {
              "outlinewidth": 0,
              "ticks": ""
             }
            },
            "type": "parcoords"
           }
          ],
          "pie": [
           {
            "automargin": true,
            "type": "pie"
           }
          ],
          "scatter": [
           {
            "fillpattern": {
             "fillmode": "overlay",
             "size": 10,
             "solidity": 0.2
            },
            "type": "scatter"
           }
          ],
          "scatter3d": [
           {
            "line": {
             "colorbar": {
              "outlinewidth": 0,
              "ticks": ""
             }
            },
            "marker": {
             "colorbar": {
              "outlinewidth": 0,
              "ticks": ""
             }
            },
            "type": "scatter3d"
           }
          ],
          "scattercarpet": [
           {
            "marker": {
             "colorbar": {
              "outlinewidth": 0,
              "ticks": ""
             }
            },
            "type": "scattercarpet"
           }
          ],
          "scattergeo": [
           {
            "marker": {
             "colorbar": {
              "outlinewidth": 0,
              "ticks": ""
             }
            },
            "type": "scattergeo"
           }
          ],
          "scattergl": [
           {
            "marker": {
             "colorbar": {
              "outlinewidth": 0,
              "ticks": ""
             }
            },
            "type": "scattergl"
           }
          ],
          "scattermapbox": [
           {
            "marker": {
             "colorbar": {
              "outlinewidth": 0,
              "ticks": ""
             }
            },
            "type": "scattermapbox"
           }
          ],
          "scatterpolar": [
           {
            "marker": {
             "colorbar": {
              "outlinewidth": 0,
              "ticks": ""
             }
            },
            "type": "scatterpolar"
           }
          ],
          "scatterpolargl": [
           {
            "marker": {
             "colorbar": {
              "outlinewidth": 0,
              "ticks": ""
             }
            },
            "type": "scatterpolargl"
           }
          ],
          "scatterternary": [
           {
            "marker": {
             "colorbar": {
              "outlinewidth": 0,
              "ticks": ""
             }
            },
            "type": "scatterternary"
           }
          ],
          "surface": [
           {
            "colorbar": {
             "outlinewidth": 0,
             "ticks": ""
            },
            "colorscale": [
             [
              0,
              "#0d0887"
             ],
             [
              0.1111111111111111,
              "#46039f"
             ],
             [
              0.2222222222222222,
              "#7201a8"
             ],
             [
              0.3333333333333333,
              "#9c179e"
             ],
             [
              0.4444444444444444,
              "#bd3786"
             ],
             [
              0.5555555555555556,
              "#d8576b"
             ],
             [
              0.6666666666666666,
              "#ed7953"
             ],
             [
              0.7777777777777778,
              "#fb9f3a"
             ],
             [
              0.8888888888888888,
              "#fdca26"
             ],
             [
              1,
              "#f0f921"
             ]
            ],
            "type": "surface"
           }
          ],
          "table": [
           {
            "cells": {
             "fill": {
              "color": "#EBF0F8"
             },
             "line": {
              "color": "white"
             }
            },
            "header": {
             "fill": {
              "color": "#C8D4E3"
             },
             "line": {
              "color": "white"
             }
            },
            "type": "table"
           }
          ]
         },
         "layout": {
          "annotationdefaults": {
           "arrowcolor": "#2a3f5f",
           "arrowhead": 0,
           "arrowwidth": 1
          },
          "autotypenumbers": "strict",
          "coloraxis": {
           "colorbar": {
            "outlinewidth": 0,
            "ticks": ""
           }
          },
          "colorscale": {
           "diverging": [
            [
             0,
             "#8e0152"
            ],
            [
             0.1,
             "#c51b7d"
            ],
            [
             0.2,
             "#de77ae"
            ],
            [
             0.3,
             "#f1b6da"
            ],
            [
             0.4,
             "#fde0ef"
            ],
            [
             0.5,
             "#f7f7f7"
            ],
            [
             0.6,
             "#e6f5d0"
            ],
            [
             0.7,
             "#b8e186"
            ],
            [
             0.8,
             "#7fbc41"
            ],
            [
             0.9,
             "#4d9221"
            ],
            [
             1,
             "#276419"
            ]
           ],
           "sequential": [
            [
             0,
             "#0d0887"
            ],
            [
             0.1111111111111111,
             "#46039f"
            ],
            [
             0.2222222222222222,
             "#7201a8"
            ],
            [
             0.3333333333333333,
             "#9c179e"
            ],
            [
             0.4444444444444444,
             "#bd3786"
            ],
            [
             0.5555555555555556,
             "#d8576b"
            ],
            [
             0.6666666666666666,
             "#ed7953"
            ],
            [
             0.7777777777777778,
             "#fb9f3a"
            ],
            [
             0.8888888888888888,
             "#fdca26"
            ],
            [
             1,
             "#f0f921"
            ]
           ],
           "sequentialminus": [
            [
             0,
             "#0d0887"
            ],
            [
             0.1111111111111111,
             "#46039f"
            ],
            [
             0.2222222222222222,
             "#7201a8"
            ],
            [
             0.3333333333333333,
             "#9c179e"
            ],
            [
             0.4444444444444444,
             "#bd3786"
            ],
            [
             0.5555555555555556,
             "#d8576b"
            ],
            [
             0.6666666666666666,
             "#ed7953"
            ],
            [
             0.7777777777777778,
             "#fb9f3a"
            ],
            [
             0.8888888888888888,
             "#fdca26"
            ],
            [
             1,
             "#f0f921"
            ]
           ]
          },
          "colorway": [
           "#636efa",
           "#EF553B",
           "#00cc96",
           "#ab63fa",
           "#FFA15A",
           "#19d3f3",
           "#FF6692",
           "#B6E880",
           "#FF97FF",
           "#FECB52"
          ],
          "font": {
           "color": "#2a3f5f"
          },
          "geo": {
           "bgcolor": "white",
           "lakecolor": "white",
           "landcolor": "#E5ECF6",
           "showlakes": true,
           "showland": true,
           "subunitcolor": "white"
          },
          "hoverlabel": {
           "align": "left"
          },
          "hovermode": "closest",
          "mapbox": {
           "style": "light"
          },
          "paper_bgcolor": "white",
          "plot_bgcolor": "#E5ECF6",
          "polar": {
           "angularaxis": {
            "gridcolor": "white",
            "linecolor": "white",
            "ticks": ""
           },
           "bgcolor": "#E5ECF6",
           "radialaxis": {
            "gridcolor": "white",
            "linecolor": "white",
            "ticks": ""
           }
          },
          "scene": {
           "xaxis": {
            "backgroundcolor": "#E5ECF6",
            "gridcolor": "white",
            "gridwidth": 2,
            "linecolor": "white",
            "showbackground": true,
            "ticks": "",
            "zerolinecolor": "white"
           },
           "yaxis": {
            "backgroundcolor": "#E5ECF6",
            "gridcolor": "white",
            "gridwidth": 2,
            "linecolor": "white",
            "showbackground": true,
            "ticks": "",
            "zerolinecolor": "white"
           },
           "zaxis": {
            "backgroundcolor": "#E5ECF6",
            "gridcolor": "white",
            "gridwidth": 2,
            "linecolor": "white",
            "showbackground": true,
            "ticks": "",
            "zerolinecolor": "white"
           }
          },
          "shapedefaults": {
           "line": {
            "color": "#2a3f5f"
           }
          },
          "ternary": {
           "aaxis": {
            "gridcolor": "white",
            "linecolor": "white",
            "ticks": ""
           },
           "baxis": {
            "gridcolor": "white",
            "linecolor": "white",
            "ticks": ""
           },
           "bgcolor": "#E5ECF6",
           "caxis": {
            "gridcolor": "white",
            "linecolor": "white",
            "ticks": ""
           }
          },
          "title": {
           "x": 0.05
          },
          "xaxis": {
           "automargin": true,
           "gridcolor": "white",
           "linecolor": "white",
           "ticks": "",
           "title": {
            "standoff": 15
           },
           "zerolinecolor": "white",
           "zerolinewidth": 2
          },
          "yaxis": {
           "automargin": true,
           "gridcolor": "white",
           "linecolor": "white",
           "ticks": "",
           "title": {
            "standoff": 15
           },
           "zerolinecolor": "white",
           "zerolinewidth": 2
          }
         }
        },
        "title": {
         "text": "Distribution of Hotel Ratings"
        },
        "xaxis": {
         "anchor": "y",
         "domain": [
          0,
          1
         ],
         "title": {
          "text": "rating"
         }
        },
        "yaxis": {
         "anchor": "x",
         "domain": [
          0,
          1
         ],
         "title": {
          "text": "count"
         }
        }
       }
      }
     },
     "metadata": {},
     "output_type": "display_data"
    }
   ],
   "source": [
    "fig1.show()"
   ]
  },
  {
   "cell_type": "markdown",
   "metadata": {},
   "source": [
    "# Scatter Plot: Relationship between Distance from Center and Rating\n",
    "I first thought hotels closer to the center would have higher ratings. But, it looks like there isn't a strong link between how close they are to the center and their ratings. This was different from what I expected, showing distance and ratings don't always match up."
   ]
  },
  {
   "cell_type": "code",
   "execution_count": 168,
   "metadata": {},
   "outputs": [
    {
     "data": {
      "application/vnd.plotly.v1+json": {
       "config": {
        "plotlyServerURL": "https://plot.ly"
       },
       "data": [
        {
         "hovertemplate": "distance_from_center=%{x}<br>rating=%{y}<extra></extra>",
         "legendgroup": "",
         "marker": {
          "color": "#636efa",
          "symbol": "circle"
         },
         "mode": "markers",
         "name": "",
         "orientation": "v",
         "showlegend": false,
         "type": "scatter",
         "x": [
          3006,
          320,
          57,
          1269,
          8344,
          4628,
          12555,
          2369,
          1042,
          3394,
          7846,
          1381,
          2316,
          3649,
          3452,
          3026,
          6702,
          1752,
          2367,
          3082,
          380,
          5652,
          3018,
          1836,
          4620,
          4065,
          3142,
          1853,
          5718,
          3626,
          13498,
          186,
          4583,
          7425,
          320,
          13011,
          1381,
          1829,
          10530,
          6840,
          1752,
          8170,
          3795,
          3082,
          8766,
          4857,
          10567,
          3394,
          1225,
          3026,
          2367,
          9854,
          8170,
          3795,
          3082,
          8766,
          3649,
          4857,
          10567,
          3394,
          1225,
          3026,
          2367,
          5652,
          5400,
          3638,
          10698,
          1836,
          5149,
          6805,
          1951,
          7846,
          2926,
          1656,
          4279,
          4102,
          13847,
          3006,
          1776,
          2099,
          1773,
          4061,
          8523,
          2499,
          2074,
          3897,
          1372,
          5597,
          2075,
          3080,
          3038,
          5656,
          655,
          2626,
          1545,
          3460,
          4415,
          6702,
          2380,
          5140,
          2561,
          3496,
          1101,
          4734,
          10605,
          855,
          2044,
          9015,
          896,
          1084,
          5620,
          3518,
          2574,
          4799,
          2892,
          1658,
          5960,
          6203,
          2083,
          13709,
          1471,
          2593,
          1126,
          5610,
          9359,
          2967,
          1471,
          2593,
          1126,
          5610,
          9359,
          2967,
          5579,
          1661,
          353,
          1602,
          4783,
          207,
          18026,
          5890,
          1641,
          614,
          6389,
          2561,
          1782,
          402,
          2923,
          2987,
          8077,
          546,
          2026,
          2026,
          3224,
          6573,
          2604,
          1192,
          3039,
          1989,
          1941,
          2804,
          1371,
          4011,
          3645,
          2627,
          3749,
          3599,
          4799,
          2569,
          536,
          3431,
          4722,
          3276,
          1199,
          3019,
          3682,
          4051,
          2627,
          3749,
          3599,
          4722,
          1199,
          141,
          3702,
          5108,
          401,
          4078,
          1718,
          1749,
          2265,
          3917,
          1667,
          2581,
          4258,
          4561,
          2189,
          1135,
          4052,
          4974,
          2403,
          5208,
          729,
          1646,
          4080,
          2515,
          5695,
          1699,
          1248,
          2972,
          1239,
          7681,
          3702,
          5706,
          1616,
          4681,
          7342,
          141,
          2541,
          499,
          2684,
          1245,
          1482,
          1719,
          2189,
          7821,
          3635,
          1554
         ],
         "xaxis": "x",
         "y": [
          7.2,
          9.2,
          8.6,
          8,
          8.3,
          8.3,
          7.9,
          7.7,
          8.7,
          7.9,
          7.3,
          6.6,
          7.1,
          8.6,
          7.8,
          8.1,
          7,
          8.3,
          8.2,
          7.6,
          7.9,
          8.2,
          7.9,
          8.1,
          8,
          8.3,
          7.8,
          7.5,
          8.5,
          7.2,
          8.1,
          7.8,
          8.5,
          8,
          9.2,
          8.1,
          6.6,
          8.1,
          8,
          8.4,
          8.3,
          8.7,
          8.3,
          7.6,
          7.1,
          8.2,
          8.4,
          7.9,
          8.7,
          8.1,
          8.2,
          7.9,
          8.7,
          8.3,
          7.6,
          7.1,
          8.6,
          8.2,
          8.4,
          7.9,
          8.7,
          8.1,
          8.2,
          8.2,
          8.3,
          7.9,
          8.1,
          8.1,
          8,
          8.6,
          8.1,
          7.3,
          8.1,
          8.9,
          7.3,
          8.3,
          8.1,
          7.2,
          6.7,
          8.5,
          8.1,
          8.5,
          7.7,
          7.6,
          8.1,
          7.5,
          8,
          8.5,
          8.7,
          7.6,
          7.7,
          8.3,
          8.8,
          8,
          7.9,
          8.7,
          8.2,
          7,
          8.6,
          8.3,
          7.5,
          8.4,
          9,
          7.6,
          8.7,
          7.5,
          8.9,
          8.3,
          8.5,
          6.7,
          7.6,
          8.1,
          7.7,
          8.1,
          8.5,
          7.3,
          6.6,
          8.3,
          8.4,
          7.4,
          8.5,
          8.4,
          8.7,
          7.9,
          8.3,
          8.3,
          8.5,
          8.4,
          8.7,
          7.9,
          8.3,
          8.3,
          7.8,
          7.2,
          7.4,
          7.1,
          7.8,
          7.4,
          8.1,
          7.2,
          8.9,
          8.7,
          8.4,
          7.5,
          7.3,
          8.5,
          8.3,
          7.6,
          8.1,
          8.6,
          8.8,
          8.8,
          8.8,
          8.3,
          8.1,
          7.7,
          8,
          7.8,
          7.3,
          8.3,
          7.5,
          8.2,
          8.1,
          6.6,
          8.4,
          8.2,
          7.2,
          8.5,
          8.3,
          7.6,
          7.6,
          7.2,
          8.5,
          8,
          9.2,
          7.4,
          6.6,
          8.4,
          8.2,
          7.6,
          8.5,
          6.9,
          6.8,
          7.8,
          8.8,
          8.5,
          8.2,
          8.7,
          8.6,
          8.4,
          7.8,
          8.2,
          8.1,
          8.3,
          9.2,
          8.2,
          8.1,
          6.4,
          8.8,
          8,
          8.4,
          7.9,
          8.1,
          8.3,
          6.9,
          7.6,
          8.4,
          8.4,
          8.9,
          8.4,
          6.8,
          8.6,
          7.6,
          8,
          8.2,
          6.9,
          8.2,
          8.9,
          7.8,
          8.6,
          8.6,
          8.5,
          9.2,
          8,
          8.6,
          8
         ],
         "yaxis": "y"
        }
       ],
       "layout": {
        "legend": {
         "tracegroupgap": 0
        },
        "template": {
         "data": {
          "bar": [
           {
            "error_x": {
             "color": "#2a3f5f"
            },
            "error_y": {
             "color": "#2a3f5f"
            },
            "marker": {
             "line": {
              "color": "#E5ECF6",
              "width": 0.5
             },
             "pattern": {
              "fillmode": "overlay",
              "size": 10,
              "solidity": 0.2
             }
            },
            "type": "bar"
           }
          ],
          "barpolar": [
           {
            "marker": {
             "line": {
              "color": "#E5ECF6",
              "width": 0.5
             },
             "pattern": {
              "fillmode": "overlay",
              "size": 10,
              "solidity": 0.2
             }
            },
            "type": "barpolar"
           }
          ],
          "carpet": [
           {
            "aaxis": {
             "endlinecolor": "#2a3f5f",
             "gridcolor": "white",
             "linecolor": "white",
             "minorgridcolor": "white",
             "startlinecolor": "#2a3f5f"
            },
            "baxis": {
             "endlinecolor": "#2a3f5f",
             "gridcolor": "white",
             "linecolor": "white",
             "minorgridcolor": "white",
             "startlinecolor": "#2a3f5f"
            },
            "type": "carpet"
           }
          ],
          "choropleth": [
           {
            "colorbar": {
             "outlinewidth": 0,
             "ticks": ""
            },
            "type": "choropleth"
           }
          ],
          "contour": [
           {
            "colorbar": {
             "outlinewidth": 0,
             "ticks": ""
            },
            "colorscale": [
             [
              0,
              "#0d0887"
             ],
             [
              0.1111111111111111,
              "#46039f"
             ],
             [
              0.2222222222222222,
              "#7201a8"
             ],
             [
              0.3333333333333333,
              "#9c179e"
             ],
             [
              0.4444444444444444,
              "#bd3786"
             ],
             [
              0.5555555555555556,
              "#d8576b"
             ],
             [
              0.6666666666666666,
              "#ed7953"
             ],
             [
              0.7777777777777778,
              "#fb9f3a"
             ],
             [
              0.8888888888888888,
              "#fdca26"
             ],
             [
              1,
              "#f0f921"
             ]
            ],
            "type": "contour"
           }
          ],
          "contourcarpet": [
           {
            "colorbar": {
             "outlinewidth": 0,
             "ticks": ""
            },
            "type": "contourcarpet"
           }
          ],
          "heatmap": [
           {
            "colorbar": {
             "outlinewidth": 0,
             "ticks": ""
            },
            "colorscale": [
             [
              0,
              "#0d0887"
             ],
             [
              0.1111111111111111,
              "#46039f"
             ],
             [
              0.2222222222222222,
              "#7201a8"
             ],
             [
              0.3333333333333333,
              "#9c179e"
             ],
             [
              0.4444444444444444,
              "#bd3786"
             ],
             [
              0.5555555555555556,
              "#d8576b"
             ],
             [
              0.6666666666666666,
              "#ed7953"
             ],
             [
              0.7777777777777778,
              "#fb9f3a"
             ],
             [
              0.8888888888888888,
              "#fdca26"
             ],
             [
              1,
              "#f0f921"
             ]
            ],
            "type": "heatmap"
           }
          ],
          "heatmapgl": [
           {
            "colorbar": {
             "outlinewidth": 0,
             "ticks": ""
            },
            "colorscale": [
             [
              0,
              "#0d0887"
             ],
             [
              0.1111111111111111,
              "#46039f"
             ],
             [
              0.2222222222222222,
              "#7201a8"
             ],
             [
              0.3333333333333333,
              "#9c179e"
             ],
             [
              0.4444444444444444,
              "#bd3786"
             ],
             [
              0.5555555555555556,
              "#d8576b"
             ],
             [
              0.6666666666666666,
              "#ed7953"
             ],
             [
              0.7777777777777778,
              "#fb9f3a"
             ],
             [
              0.8888888888888888,
              "#fdca26"
             ],
             [
              1,
              "#f0f921"
             ]
            ],
            "type": "heatmapgl"
           }
          ],
          "histogram": [
           {
            "marker": {
             "pattern": {
              "fillmode": "overlay",
              "size": 10,
              "solidity": 0.2
             }
            },
            "type": "histogram"
           }
          ],
          "histogram2d": [
           {
            "colorbar": {
             "outlinewidth": 0,
             "ticks": ""
            },
            "colorscale": [
             [
              0,
              "#0d0887"
             ],
             [
              0.1111111111111111,
              "#46039f"
             ],
             [
              0.2222222222222222,
              "#7201a8"
             ],
             [
              0.3333333333333333,
              "#9c179e"
             ],
             [
              0.4444444444444444,
              "#bd3786"
             ],
             [
              0.5555555555555556,
              "#d8576b"
             ],
             [
              0.6666666666666666,
              "#ed7953"
             ],
             [
              0.7777777777777778,
              "#fb9f3a"
             ],
             [
              0.8888888888888888,
              "#fdca26"
             ],
             [
              1,
              "#f0f921"
             ]
            ],
            "type": "histogram2d"
           }
          ],
          "histogram2dcontour": [
           {
            "colorbar": {
             "outlinewidth": 0,
             "ticks": ""
            },
            "colorscale": [
             [
              0,
              "#0d0887"
             ],
             [
              0.1111111111111111,
              "#46039f"
             ],
             [
              0.2222222222222222,
              "#7201a8"
             ],
             [
              0.3333333333333333,
              "#9c179e"
             ],
             [
              0.4444444444444444,
              "#bd3786"
             ],
             [
              0.5555555555555556,
              "#d8576b"
             ],
             [
              0.6666666666666666,
              "#ed7953"
             ],
             [
              0.7777777777777778,
              "#fb9f3a"
             ],
             [
              0.8888888888888888,
              "#fdca26"
             ],
             [
              1,
              "#f0f921"
             ]
            ],
            "type": "histogram2dcontour"
           }
          ],
          "mesh3d": [
           {
            "colorbar": {
             "outlinewidth": 0,
             "ticks": ""
            },
            "type": "mesh3d"
           }
          ],
          "parcoords": [
           {
            "line": {
             "colorbar": {
              "outlinewidth": 0,
              "ticks": ""
             }
            },
            "type": "parcoords"
           }
          ],
          "pie": [
           {
            "automargin": true,
            "type": "pie"
           }
          ],
          "scatter": [
           {
            "fillpattern": {
             "fillmode": "overlay",
             "size": 10,
             "solidity": 0.2
            },
            "type": "scatter"
           }
          ],
          "scatter3d": [
           {
            "line": {
             "colorbar": {
              "outlinewidth": 0,
              "ticks": ""
             }
            },
            "marker": {
             "colorbar": {
              "outlinewidth": 0,
              "ticks": ""
             }
            },
            "type": "scatter3d"
           }
          ],
          "scattercarpet": [
           {
            "marker": {
             "colorbar": {
              "outlinewidth": 0,
              "ticks": ""
             }
            },
            "type": "scattercarpet"
           }
          ],
          "scattergeo": [
           {
            "marker": {
             "colorbar": {
              "outlinewidth": 0,
              "ticks": ""
             }
            },
            "type": "scattergeo"
           }
          ],
          "scattergl": [
           {
            "marker": {
             "colorbar": {
              "outlinewidth": 0,
              "ticks": ""
             }
            },
            "type": "scattergl"
           }
          ],
          "scattermapbox": [
           {
            "marker": {
             "colorbar": {
              "outlinewidth": 0,
              "ticks": ""
             }
            },
            "type": "scattermapbox"
           }
          ],
          "scatterpolar": [
           {
            "marker": {
             "colorbar": {
              "outlinewidth": 0,
              "ticks": ""
             }
            },
            "type": "scatterpolar"
           }
          ],
          "scatterpolargl": [
           {
            "marker": {
             "colorbar": {
              "outlinewidth": 0,
              "ticks": ""
             }
            },
            "type": "scatterpolargl"
           }
          ],
          "scatterternary": [
           {
            "marker": {
             "colorbar": {
              "outlinewidth": 0,
              "ticks": ""
             }
            },
            "type": "scatterternary"
           }
          ],
          "surface": [
           {
            "colorbar": {
             "outlinewidth": 0,
             "ticks": ""
            },
            "colorscale": [
             [
              0,
              "#0d0887"
             ],
             [
              0.1111111111111111,
              "#46039f"
             ],
             [
              0.2222222222222222,
              "#7201a8"
             ],
             [
              0.3333333333333333,
              "#9c179e"
             ],
             [
              0.4444444444444444,
              "#bd3786"
             ],
             [
              0.5555555555555556,
              "#d8576b"
             ],
             [
              0.6666666666666666,
              "#ed7953"
             ],
             [
              0.7777777777777778,
              "#fb9f3a"
             ],
             [
              0.8888888888888888,
              "#fdca26"
             ],
             [
              1,
              "#f0f921"
             ]
            ],
            "type": "surface"
           }
          ],
          "table": [
           {
            "cells": {
             "fill": {
              "color": "#EBF0F8"
             },
             "line": {
              "color": "white"
             }
            },
            "header": {
             "fill": {
              "color": "#C8D4E3"
             },
             "line": {
              "color": "white"
             }
            },
            "type": "table"
           }
          ]
         },
         "layout": {
          "annotationdefaults": {
           "arrowcolor": "#2a3f5f",
           "arrowhead": 0,
           "arrowwidth": 1
          },
          "autotypenumbers": "strict",
          "coloraxis": {
           "colorbar": {
            "outlinewidth": 0,
            "ticks": ""
           }
          },
          "colorscale": {
           "diverging": [
            [
             0,
             "#8e0152"
            ],
            [
             0.1,
             "#c51b7d"
            ],
            [
             0.2,
             "#de77ae"
            ],
            [
             0.3,
             "#f1b6da"
            ],
            [
             0.4,
             "#fde0ef"
            ],
            [
             0.5,
             "#f7f7f7"
            ],
            [
             0.6,
             "#e6f5d0"
            ],
            [
             0.7,
             "#b8e186"
            ],
            [
             0.8,
             "#7fbc41"
            ],
            [
             0.9,
             "#4d9221"
            ],
            [
             1,
             "#276419"
            ]
           ],
           "sequential": [
            [
             0,
             "#0d0887"
            ],
            [
             0.1111111111111111,
             "#46039f"
            ],
            [
             0.2222222222222222,
             "#7201a8"
            ],
            [
             0.3333333333333333,
             "#9c179e"
            ],
            [
             0.4444444444444444,
             "#bd3786"
            ],
            [
             0.5555555555555556,
             "#d8576b"
            ],
            [
             0.6666666666666666,
             "#ed7953"
            ],
            [
             0.7777777777777778,
             "#fb9f3a"
            ],
            [
             0.8888888888888888,
             "#fdca26"
            ],
            [
             1,
             "#f0f921"
            ]
           ],
           "sequentialminus": [
            [
             0,
             "#0d0887"
            ],
            [
             0.1111111111111111,
             "#46039f"
            ],
            [
             0.2222222222222222,
             "#7201a8"
            ],
            [
             0.3333333333333333,
             "#9c179e"
            ],
            [
             0.4444444444444444,
             "#bd3786"
            ],
            [
             0.5555555555555556,
             "#d8576b"
            ],
            [
             0.6666666666666666,
             "#ed7953"
            ],
            [
             0.7777777777777778,
             "#fb9f3a"
            ],
            [
             0.8888888888888888,
             "#fdca26"
            ],
            [
             1,
             "#f0f921"
            ]
           ]
          },
          "colorway": [
           "#636efa",
           "#EF553B",
           "#00cc96",
           "#ab63fa",
           "#FFA15A",
           "#19d3f3",
           "#FF6692",
           "#B6E880",
           "#FF97FF",
           "#FECB52"
          ],
          "font": {
           "color": "#2a3f5f"
          },
          "geo": {
           "bgcolor": "white",
           "lakecolor": "white",
           "landcolor": "#E5ECF6",
           "showlakes": true,
           "showland": true,
           "subunitcolor": "white"
          },
          "hoverlabel": {
           "align": "left"
          },
          "hovermode": "closest",
          "mapbox": {
           "style": "light"
          },
          "paper_bgcolor": "white",
          "plot_bgcolor": "#E5ECF6",
          "polar": {
           "angularaxis": {
            "gridcolor": "white",
            "linecolor": "white",
            "ticks": ""
           },
           "bgcolor": "#E5ECF6",
           "radialaxis": {
            "gridcolor": "white",
            "linecolor": "white",
            "ticks": ""
           }
          },
          "scene": {
           "xaxis": {
            "backgroundcolor": "#E5ECF6",
            "gridcolor": "white",
            "gridwidth": 2,
            "linecolor": "white",
            "showbackground": true,
            "ticks": "",
            "zerolinecolor": "white"
           },
           "yaxis": {
            "backgroundcolor": "#E5ECF6",
            "gridcolor": "white",
            "gridwidth": 2,
            "linecolor": "white",
            "showbackground": true,
            "ticks": "",
            "zerolinecolor": "white"
           },
           "zaxis": {
            "backgroundcolor": "#E5ECF6",
            "gridcolor": "white",
            "gridwidth": 2,
            "linecolor": "white",
            "showbackground": true,
            "ticks": "",
            "zerolinecolor": "white"
           }
          },
          "shapedefaults": {
           "line": {
            "color": "#2a3f5f"
           }
          },
          "ternary": {
           "aaxis": {
            "gridcolor": "white",
            "linecolor": "white",
            "ticks": ""
           },
           "baxis": {
            "gridcolor": "white",
            "linecolor": "white",
            "ticks": ""
           },
           "bgcolor": "#E5ECF6",
           "caxis": {
            "gridcolor": "white",
            "linecolor": "white",
            "ticks": ""
           }
          },
          "title": {
           "x": 0.05
          },
          "xaxis": {
           "automargin": true,
           "gridcolor": "white",
           "linecolor": "white",
           "ticks": "",
           "title": {
            "standoff": 15
           },
           "zerolinecolor": "white",
           "zerolinewidth": 2
          },
          "yaxis": {
           "automargin": true,
           "gridcolor": "white",
           "linecolor": "white",
           "ticks": "",
           "title": {
            "standoff": 15
           },
           "zerolinecolor": "white",
           "zerolinewidth": 2
          }
         }
        },
        "title": {
         "text": "Distance from Center vs. Rating"
        },
        "xaxis": {
         "anchor": "y",
         "domain": [
          0,
          1
         ],
         "title": {
          "text": "distance_from_center"
         }
        },
        "yaxis": {
         "anchor": "x",
         "domain": [
          0,
          1
         ],
         "title": {
          "text": "rating"
         }
        }
       }
      }
     },
     "metadata": {},
     "output_type": "display_data"
    }
   ],
   "source": [
    "fig2.show()"
   ]
  },
  {
   "cell_type": "markdown",
   "metadata": {},
   "source": [
    "# Box Plot: Distribution of Ratings by Sustainability Level\n",
    "It looks like hotels with higher sustainability levels have more consistent ratings. Their ratings vary less compared to others. This means the more sustainable a hotel is, the more predictable its rating. This suggests a link between sustainability and steady quality in hotels."
   ]
  },
  {
   "cell_type": "code",
   "execution_count": 169,
   "metadata": {},
   "outputs": [
    {
     "data": {
      "application/vnd.plotly.v1+json": {
       "config": {
        "plotlyServerURL": "https://plot.ly"
       },
       "data": [
        {
         "alignmentgroup": "True",
         "hovertemplate": "sustainable_level=%{x}<br>rating=%{y}<extra></extra>",
         "legendgroup": "",
         "marker": {
          "color": "#636efa"
         },
         "name": "",
         "notched": false,
         "offsetgroup": "",
         "orientation": "v",
         "showlegend": false,
         "type": "box",
         "x": [
          2,
          1,
          2,
          1,
          2,
          3,
          2,
          1,
          2,
          1,
          1,
          1,
          1,
          1,
          1,
          3,
          1,
          2,
          2,
          1,
          1,
          2,
          2,
          2,
          1,
          3,
          2,
          3,
          1,
          2,
          3,
          2,
          2,
          3,
          1,
          3,
          1,
          2,
          1,
          3,
          2,
          3,
          1,
          1,
          3,
          3,
          3,
          1,
          1,
          3,
          2,
          3,
          3,
          1,
          1,
          3,
          1,
          3,
          3,
          1,
          1,
          3,
          2,
          2,
          3,
          1,
          3,
          2,
          1,
          3,
          2,
          1,
          3,
          3,
          1,
          3,
          1,
          2,
          1,
          3,
          2,
          3,
          1,
          1,
          1,
          1,
          3,
          3,
          1,
          1,
          1,
          2,
          3,
          3,
          3,
          1,
          3,
          1,
          1,
          2,
          1,
          3,
          2,
          1,
          3,
          3,
          1,
          3,
          2,
          1,
          2,
          3,
          3,
          1,
          1,
          1,
          3,
          3,
          1,
          2,
          1,
          2,
          1,
          1,
          1,
          3,
          1,
          2,
          1,
          1,
          1,
          3,
          1,
          1,
          2,
          3,
          1,
          1,
          1,
          1,
          2,
          2,
          3,
          1,
          1,
          3,
          3,
          2,
          2,
          2,
          1,
          1,
          1,
          3,
          2,
          3,
          1,
          1,
          2,
          3,
          2,
          3,
          3,
          3,
          2,
          3,
          2,
          3,
          1,
          1,
          1,
          3,
          1,
          3,
          3,
          2,
          3,
          2,
          3,
          1,
          1,
          2,
          2,
          1,
          2,
          1,
          2,
          1,
          2,
          1,
          2,
          3,
          2,
          2,
          3,
          2,
          3,
          3,
          1,
          1,
          3,
          3,
          1,
          3,
          3,
          3,
          3,
          3,
          2,
          1,
          2,
          3,
          1,
          3,
          3,
          2,
          3,
          3,
          3,
          1,
          1,
          1,
          3,
          2,
          1,
          1
         ],
         "x0": " ",
         "xaxis": "x",
         "y": [
          7.2,
          9.2,
          8.6,
          8,
          8.3,
          8.3,
          7.9,
          7.7,
          8.7,
          7.9,
          7.3,
          6.6,
          7.1,
          8.6,
          7.8,
          8.1,
          7,
          8.3,
          8.2,
          7.6,
          7.9,
          8.2,
          7.9,
          8.1,
          8,
          8.3,
          7.8,
          7.5,
          8.5,
          7.2,
          8.1,
          7.8,
          8.5,
          8,
          9.2,
          8.1,
          6.6,
          8.1,
          8,
          8.4,
          8.3,
          8.7,
          8.3,
          7.6,
          7.1,
          8.2,
          8.4,
          7.9,
          8.7,
          8.1,
          8.2,
          7.9,
          8.7,
          8.3,
          7.6,
          7.1,
          8.6,
          8.2,
          8.4,
          7.9,
          8.7,
          8.1,
          8.2,
          8.2,
          8.3,
          7.9,
          8.1,
          8.1,
          8,
          8.6,
          8.1,
          7.3,
          8.1,
          8.9,
          7.3,
          8.3,
          8.1,
          7.2,
          6.7,
          8.5,
          8.1,
          8.5,
          7.7,
          7.6,
          8.1,
          7.5,
          8,
          8.5,
          8.7,
          7.6,
          7.7,
          8.3,
          8.8,
          8,
          7.9,
          8.7,
          8.2,
          7,
          8.6,
          8.3,
          7.5,
          8.4,
          9,
          7.6,
          8.7,
          7.5,
          8.9,
          8.3,
          8.5,
          6.7,
          7.6,
          8.1,
          7.7,
          8.1,
          8.5,
          7.3,
          6.6,
          8.3,
          8.4,
          7.4,
          8.5,
          8.4,
          8.7,
          7.9,
          8.3,
          8.3,
          8.5,
          8.4,
          8.7,
          7.9,
          8.3,
          8.3,
          7.8,
          7.2,
          7.4,
          7.1,
          7.8,
          7.4,
          8.1,
          7.2,
          8.9,
          8.7,
          8.4,
          7.5,
          7.3,
          8.5,
          8.3,
          7.6,
          8.1,
          8.6,
          8.8,
          8.8,
          8.8,
          8.3,
          8.1,
          7.7,
          8,
          7.8,
          7.3,
          8.3,
          7.5,
          8.2,
          8.1,
          6.6,
          8.4,
          8.2,
          7.2,
          8.5,
          8.3,
          7.6,
          7.6,
          7.2,
          8.5,
          8,
          9.2,
          7.4,
          6.6,
          8.4,
          8.2,
          7.6,
          8.5,
          6.9,
          6.8,
          7.8,
          8.8,
          8.5,
          8.2,
          8.7,
          8.6,
          8.4,
          7.8,
          8.2,
          8.1,
          8.3,
          9.2,
          8.2,
          8.1,
          6.4,
          8.8,
          8,
          8.4,
          7.9,
          8.1,
          8.3,
          6.9,
          7.6,
          8.4,
          8.4,
          8.9,
          8.4,
          6.8,
          8.6,
          7.6,
          8,
          8.2,
          6.9,
          8.2,
          8.9,
          7.8,
          8.6,
          8.6,
          8.5,
          9.2,
          8,
          8.6,
          8
         ],
         "y0": " ",
         "yaxis": "y"
        }
       ],
       "layout": {
        "boxmode": "group",
        "legend": {
         "tracegroupgap": 0
        },
        "template": {
         "data": {
          "bar": [
           {
            "error_x": {
             "color": "#2a3f5f"
            },
            "error_y": {
             "color": "#2a3f5f"
            },
            "marker": {
             "line": {
              "color": "#E5ECF6",
              "width": 0.5
             },
             "pattern": {
              "fillmode": "overlay",
              "size": 10,
              "solidity": 0.2
             }
            },
            "type": "bar"
           }
          ],
          "barpolar": [
           {
            "marker": {
             "line": {
              "color": "#E5ECF6",
              "width": 0.5
             },
             "pattern": {
              "fillmode": "overlay",
              "size": 10,
              "solidity": 0.2
             }
            },
            "type": "barpolar"
           }
          ],
          "carpet": [
           {
            "aaxis": {
             "endlinecolor": "#2a3f5f",
             "gridcolor": "white",
             "linecolor": "white",
             "minorgridcolor": "white",
             "startlinecolor": "#2a3f5f"
            },
            "baxis": {
             "endlinecolor": "#2a3f5f",
             "gridcolor": "white",
             "linecolor": "white",
             "minorgridcolor": "white",
             "startlinecolor": "#2a3f5f"
            },
            "type": "carpet"
           }
          ],
          "choropleth": [
           {
            "colorbar": {
             "outlinewidth": 0,
             "ticks": ""
            },
            "type": "choropleth"
           }
          ],
          "contour": [
           {
            "colorbar": {
             "outlinewidth": 0,
             "ticks": ""
            },
            "colorscale": [
             [
              0,
              "#0d0887"
             ],
             [
              0.1111111111111111,
              "#46039f"
             ],
             [
              0.2222222222222222,
              "#7201a8"
             ],
             [
              0.3333333333333333,
              "#9c179e"
             ],
             [
              0.4444444444444444,
              "#bd3786"
             ],
             [
              0.5555555555555556,
              "#d8576b"
             ],
             [
              0.6666666666666666,
              "#ed7953"
             ],
             [
              0.7777777777777778,
              "#fb9f3a"
             ],
             [
              0.8888888888888888,
              "#fdca26"
             ],
             [
              1,
              "#f0f921"
             ]
            ],
            "type": "contour"
           }
          ],
          "contourcarpet": [
           {
            "colorbar": {
             "outlinewidth": 0,
             "ticks": ""
            },
            "type": "contourcarpet"
           }
          ],
          "heatmap": [
           {
            "colorbar": {
             "outlinewidth": 0,
             "ticks": ""
            },
            "colorscale": [
             [
              0,
              "#0d0887"
             ],
             [
              0.1111111111111111,
              "#46039f"
             ],
             [
              0.2222222222222222,
              "#7201a8"
             ],
             [
              0.3333333333333333,
              "#9c179e"
             ],
             [
              0.4444444444444444,
              "#bd3786"
             ],
             [
              0.5555555555555556,
              "#d8576b"
             ],
             [
              0.6666666666666666,
              "#ed7953"
             ],
             [
              0.7777777777777778,
              "#fb9f3a"
             ],
             [
              0.8888888888888888,
              "#fdca26"
             ],
             [
              1,
              "#f0f921"
             ]
            ],
            "type": "heatmap"
           }
          ],
          "heatmapgl": [
           {
            "colorbar": {
             "outlinewidth": 0,
             "ticks": ""
            },
            "colorscale": [
             [
              0,
              "#0d0887"
             ],
             [
              0.1111111111111111,
              "#46039f"
             ],
             [
              0.2222222222222222,
              "#7201a8"
             ],
             [
              0.3333333333333333,
              "#9c179e"
             ],
             [
              0.4444444444444444,
              "#bd3786"
             ],
             [
              0.5555555555555556,
              "#d8576b"
             ],
             [
              0.6666666666666666,
              "#ed7953"
             ],
             [
              0.7777777777777778,
              "#fb9f3a"
             ],
             [
              0.8888888888888888,
              "#fdca26"
             ],
             [
              1,
              "#f0f921"
             ]
            ],
            "type": "heatmapgl"
           }
          ],
          "histogram": [
           {
            "marker": {
             "pattern": {
              "fillmode": "overlay",
              "size": 10,
              "solidity": 0.2
             }
            },
            "type": "histogram"
           }
          ],
          "histogram2d": [
           {
            "colorbar": {
             "outlinewidth": 0,
             "ticks": ""
            },
            "colorscale": [
             [
              0,
              "#0d0887"
             ],
             [
              0.1111111111111111,
              "#46039f"
             ],
             [
              0.2222222222222222,
              "#7201a8"
             ],
             [
              0.3333333333333333,
              "#9c179e"
             ],
             [
              0.4444444444444444,
              "#bd3786"
             ],
             [
              0.5555555555555556,
              "#d8576b"
             ],
             [
              0.6666666666666666,
              "#ed7953"
             ],
             [
              0.7777777777777778,
              "#fb9f3a"
             ],
             [
              0.8888888888888888,
              "#fdca26"
             ],
             [
              1,
              "#f0f921"
             ]
            ],
            "type": "histogram2d"
           }
          ],
          "histogram2dcontour": [
           {
            "colorbar": {
             "outlinewidth": 0,
             "ticks": ""
            },
            "colorscale": [
             [
              0,
              "#0d0887"
             ],
             [
              0.1111111111111111,
              "#46039f"
             ],
             [
              0.2222222222222222,
              "#7201a8"
             ],
             [
              0.3333333333333333,
              "#9c179e"
             ],
             [
              0.4444444444444444,
              "#bd3786"
             ],
             [
              0.5555555555555556,
              "#d8576b"
             ],
             [
              0.6666666666666666,
              "#ed7953"
             ],
             [
              0.7777777777777778,
              "#fb9f3a"
             ],
             [
              0.8888888888888888,
              "#fdca26"
             ],
             [
              1,
              "#f0f921"
             ]
            ],
            "type": "histogram2dcontour"
           }
          ],
          "mesh3d": [
           {
            "colorbar": {
             "outlinewidth": 0,
             "ticks": ""
            },
            "type": "mesh3d"
           }
          ],
          "parcoords": [
           {
            "line": {
             "colorbar": {
              "outlinewidth": 0,
              "ticks": ""
             }
            },
            "type": "parcoords"
           }
          ],
          "pie": [
           {
            "automargin": true,
            "type": "pie"
           }
          ],
          "scatter": [
           {
            "fillpattern": {
             "fillmode": "overlay",
             "size": 10,
             "solidity": 0.2
            },
            "type": "scatter"
           }
          ],
          "scatter3d": [
           {
            "line": {
             "colorbar": {
              "outlinewidth": 0,
              "ticks": ""
             }
            },
            "marker": {
             "colorbar": {
              "outlinewidth": 0,
              "ticks": ""
             }
            },
            "type": "scatter3d"
           }
          ],
          "scattercarpet": [
           {
            "marker": {
             "colorbar": {
              "outlinewidth": 0,
              "ticks": ""
             }
            },
            "type": "scattercarpet"
           }
          ],
          "scattergeo": [
           {
            "marker": {
             "colorbar": {
              "outlinewidth": 0,
              "ticks": ""
             }
            },
            "type": "scattergeo"
           }
          ],
          "scattergl": [
           {
            "marker": {
             "colorbar": {
              "outlinewidth": 0,
              "ticks": ""
             }
            },
            "type": "scattergl"
           }
          ],
          "scattermapbox": [
           {
            "marker": {
             "colorbar": {
              "outlinewidth": 0,
              "ticks": ""
             }
            },
            "type": "scattermapbox"
           }
          ],
          "scatterpolar": [
           {
            "marker": {
             "colorbar": {
              "outlinewidth": 0,
              "ticks": ""
             }
            },
            "type": "scatterpolar"
           }
          ],
          "scatterpolargl": [
           {
            "marker": {
             "colorbar": {
              "outlinewidth": 0,
              "ticks": ""
             }
            },
            "type": "scatterpolargl"
           }
          ],
          "scatterternary": [
           {
            "marker": {
             "colorbar": {
              "outlinewidth": 0,
              "ticks": ""
             }
            },
            "type": "scatterternary"
           }
          ],
          "surface": [
           {
            "colorbar": {
             "outlinewidth": 0,
             "ticks": ""
            },
            "colorscale": [
             [
              0,
              "#0d0887"
             ],
             [
              0.1111111111111111,
              "#46039f"
             ],
             [
              0.2222222222222222,
              "#7201a8"
             ],
             [
              0.3333333333333333,
              "#9c179e"
             ],
             [
              0.4444444444444444,
              "#bd3786"
             ],
             [
              0.5555555555555556,
              "#d8576b"
             ],
             [
              0.6666666666666666,
              "#ed7953"
             ],
             [
              0.7777777777777778,
              "#fb9f3a"
             ],
             [
              0.8888888888888888,
              "#fdca26"
             ],
             [
              1,
              "#f0f921"
             ]
            ],
            "type": "surface"
           }
          ],
          "table": [
           {
            "cells": {
             "fill": {
              "color": "#EBF0F8"
             },
             "line": {
              "color": "white"
             }
            },
            "header": {
             "fill": {
              "color": "#C8D4E3"
             },
             "line": {
              "color": "white"
             }
            },
            "type": "table"
           }
          ]
         },
         "layout": {
          "annotationdefaults": {
           "arrowcolor": "#2a3f5f",
           "arrowhead": 0,
           "arrowwidth": 1
          },
          "autotypenumbers": "strict",
          "coloraxis": {
           "colorbar": {
            "outlinewidth": 0,
            "ticks": ""
           }
          },
          "colorscale": {
           "diverging": [
            [
             0,
             "#8e0152"
            ],
            [
             0.1,
             "#c51b7d"
            ],
            [
             0.2,
             "#de77ae"
            ],
            [
             0.3,
             "#f1b6da"
            ],
            [
             0.4,
             "#fde0ef"
            ],
            [
             0.5,
             "#f7f7f7"
            ],
            [
             0.6,
             "#e6f5d0"
            ],
            [
             0.7,
             "#b8e186"
            ],
            [
             0.8,
             "#7fbc41"
            ],
            [
             0.9,
             "#4d9221"
            ],
            [
             1,
             "#276419"
            ]
           ],
           "sequential": [
            [
             0,
             "#0d0887"
            ],
            [
             0.1111111111111111,
             "#46039f"
            ],
            [
             0.2222222222222222,
             "#7201a8"
            ],
            [
             0.3333333333333333,
             "#9c179e"
            ],
            [
             0.4444444444444444,
             "#bd3786"
            ],
            [
             0.5555555555555556,
             "#d8576b"
            ],
            [
             0.6666666666666666,
             "#ed7953"
            ],
            [
             0.7777777777777778,
             "#fb9f3a"
            ],
            [
             0.8888888888888888,
             "#fdca26"
            ],
            [
             1,
             "#f0f921"
            ]
           ],
           "sequentialminus": [
            [
             0,
             "#0d0887"
            ],
            [
             0.1111111111111111,
             "#46039f"
            ],
            [
             0.2222222222222222,
             "#7201a8"
            ],
            [
             0.3333333333333333,
             "#9c179e"
            ],
            [
             0.4444444444444444,
             "#bd3786"
            ],
            [
             0.5555555555555556,
             "#d8576b"
            ],
            [
             0.6666666666666666,
             "#ed7953"
            ],
            [
             0.7777777777777778,
             "#fb9f3a"
            ],
            [
             0.8888888888888888,
             "#fdca26"
            ],
            [
             1,
             "#f0f921"
            ]
           ]
          },
          "colorway": [
           "#636efa",
           "#EF553B",
           "#00cc96",
           "#ab63fa",
           "#FFA15A",
           "#19d3f3",
           "#FF6692",
           "#B6E880",
           "#FF97FF",
           "#FECB52"
          ],
          "font": {
           "color": "#2a3f5f"
          },
          "geo": {
           "bgcolor": "white",
           "lakecolor": "white",
           "landcolor": "#E5ECF6",
           "showlakes": true,
           "showland": true,
           "subunitcolor": "white"
          },
          "hoverlabel": {
           "align": "left"
          },
          "hovermode": "closest",
          "mapbox": {
           "style": "light"
          },
          "paper_bgcolor": "white",
          "plot_bgcolor": "#E5ECF6",
          "polar": {
           "angularaxis": {
            "gridcolor": "white",
            "linecolor": "white",
            "ticks": ""
           },
           "bgcolor": "#E5ECF6",
           "radialaxis": {
            "gridcolor": "white",
            "linecolor": "white",
            "ticks": ""
           }
          },
          "scene": {
           "xaxis": {
            "backgroundcolor": "#E5ECF6",
            "gridcolor": "white",
            "gridwidth": 2,
            "linecolor": "white",
            "showbackground": true,
            "ticks": "",
            "zerolinecolor": "white"
           },
           "yaxis": {
            "backgroundcolor": "#E5ECF6",
            "gridcolor": "white",
            "gridwidth": 2,
            "linecolor": "white",
            "showbackground": true,
            "ticks": "",
            "zerolinecolor": "white"
           },
           "zaxis": {
            "backgroundcolor": "#E5ECF6",
            "gridcolor": "white",
            "gridwidth": 2,
            "linecolor": "white",
            "showbackground": true,
            "ticks": "",
            "zerolinecolor": "white"
           }
          },
          "shapedefaults": {
           "line": {
            "color": "#2a3f5f"
           }
          },
          "ternary": {
           "aaxis": {
            "gridcolor": "white",
            "linecolor": "white",
            "ticks": ""
           },
           "baxis": {
            "gridcolor": "white",
            "linecolor": "white",
            "ticks": ""
           },
           "bgcolor": "#E5ECF6",
           "caxis": {
            "gridcolor": "white",
            "linecolor": "white",
            "ticks": ""
           }
          },
          "title": {
           "x": 0.05
          },
          "xaxis": {
           "automargin": true,
           "gridcolor": "white",
           "linecolor": "white",
           "ticks": "",
           "title": {
            "standoff": 15
           },
           "zerolinecolor": "white",
           "zerolinewidth": 2
          },
          "yaxis": {
           "automargin": true,
           "gridcolor": "white",
           "linecolor": "white",
           "ticks": "",
           "title": {
            "standoff": 15
           },
           "zerolinecolor": "white",
           "zerolinewidth": 2
          }
         }
        },
        "title": {
         "text": "Ratings Distribution by Sustainability Level"
        },
        "xaxis": {
         "anchor": "y",
         "domain": [
          0,
          1
         ],
         "title": {
          "text": "sustainable_level"
         }
        },
        "yaxis": {
         "anchor": "x",
         "domain": [
          0,
          1
         ],
         "title": {
          "text": "rating"
         }
        }
       }
      }
     },
     "metadata": {},
     "output_type": "display_data"
    }
   ],
   "source": [
    "fig3.show()"
   ]
  },
  {
   "cell_type": "markdown",
   "metadata": {},
   "source": [
    "# Bar Chart: Number of Hotels by Sustainability Level\n",
    "It seems every sustainability level contains a enough amount of data. This means for each level, there's a set number of hotels contributing information. So, each level's data reflects the experiences and ratings of a certain group of hotels. This helps us understand each level based on its own data"
   ]
  },
  {
   "cell_type": "code",
   "execution_count": 170,
   "metadata": {},
   "outputs": [
    {
     "data": {
      "application/vnd.plotly.v1+json": {
       "config": {
        "plotlyServerURL": "https://plot.ly"
       },
       "data": [
        {
         "alignmentgroup": "True",
         "hovertemplate": "sustainable_level=%{x}<br>count=%{y}<extra></extra>",
         "legendgroup": "",
         "marker": {
          "color": "#636efa",
          "pattern": {
           "shape": ""
          }
         },
         "name": "",
         "offsetgroup": "",
         "orientation": "v",
         "showlegend": false,
         "textposition": "auto",
         "type": "bar",
         "x": [
          1,
          3,
          2
         ],
         "xaxis": "x",
         "y": [
          91,
          78,
          57
         ],
         "yaxis": "y"
        }
       ],
       "layout": {
        "barmode": "relative",
        "legend": {
         "tracegroupgap": 0
        },
        "template": {
         "data": {
          "bar": [
           {
            "error_x": {
             "color": "#2a3f5f"
            },
            "error_y": {
             "color": "#2a3f5f"
            },
            "marker": {
             "line": {
              "color": "#E5ECF6",
              "width": 0.5
             },
             "pattern": {
              "fillmode": "overlay",
              "size": 10,
              "solidity": 0.2
             }
            },
            "type": "bar"
           }
          ],
          "barpolar": [
           {
            "marker": {
             "line": {
              "color": "#E5ECF6",
              "width": 0.5
             },
             "pattern": {
              "fillmode": "overlay",
              "size": 10,
              "solidity": 0.2
             }
            },
            "type": "barpolar"
           }
          ],
          "carpet": [
           {
            "aaxis": {
             "endlinecolor": "#2a3f5f",
             "gridcolor": "white",
             "linecolor": "white",
             "minorgridcolor": "white",
             "startlinecolor": "#2a3f5f"
            },
            "baxis": {
             "endlinecolor": "#2a3f5f",
             "gridcolor": "white",
             "linecolor": "white",
             "minorgridcolor": "white",
             "startlinecolor": "#2a3f5f"
            },
            "type": "carpet"
           }
          ],
          "choropleth": [
           {
            "colorbar": {
             "outlinewidth": 0,
             "ticks": ""
            },
            "type": "choropleth"
           }
          ],
          "contour": [
           {
            "colorbar": {
             "outlinewidth": 0,
             "ticks": ""
            },
            "colorscale": [
             [
              0,
              "#0d0887"
             ],
             [
              0.1111111111111111,
              "#46039f"
             ],
             [
              0.2222222222222222,
              "#7201a8"
             ],
             [
              0.3333333333333333,
              "#9c179e"
             ],
             [
              0.4444444444444444,
              "#bd3786"
             ],
             [
              0.5555555555555556,
              "#d8576b"
             ],
             [
              0.6666666666666666,
              "#ed7953"
             ],
             [
              0.7777777777777778,
              "#fb9f3a"
             ],
             [
              0.8888888888888888,
              "#fdca26"
             ],
             [
              1,
              "#f0f921"
             ]
            ],
            "type": "contour"
           }
          ],
          "contourcarpet": [
           {
            "colorbar": {
             "outlinewidth": 0,
             "ticks": ""
            },
            "type": "contourcarpet"
           }
          ],
          "heatmap": [
           {
            "colorbar": {
             "outlinewidth": 0,
             "ticks": ""
            },
            "colorscale": [
             [
              0,
              "#0d0887"
             ],
             [
              0.1111111111111111,
              "#46039f"
             ],
             [
              0.2222222222222222,
              "#7201a8"
             ],
             [
              0.3333333333333333,
              "#9c179e"
             ],
             [
              0.4444444444444444,
              "#bd3786"
             ],
             [
              0.5555555555555556,
              "#d8576b"
             ],
             [
              0.6666666666666666,
              "#ed7953"
             ],
             [
              0.7777777777777778,
              "#fb9f3a"
             ],
             [
              0.8888888888888888,
              "#fdca26"
             ],
             [
              1,
              "#f0f921"
             ]
            ],
            "type": "heatmap"
           }
          ],
          "heatmapgl": [
           {
            "colorbar": {
             "outlinewidth": 0,
             "ticks": ""
            },
            "colorscale": [
             [
              0,
              "#0d0887"
             ],
             [
              0.1111111111111111,
              "#46039f"
             ],
             [
              0.2222222222222222,
              "#7201a8"
             ],
             [
              0.3333333333333333,
              "#9c179e"
             ],
             [
              0.4444444444444444,
              "#bd3786"
             ],
             [
              0.5555555555555556,
              "#d8576b"
             ],
             [
              0.6666666666666666,
              "#ed7953"
             ],
             [
              0.7777777777777778,
              "#fb9f3a"
             ],
             [
              0.8888888888888888,
              "#fdca26"
             ],
             [
              1,
              "#f0f921"
             ]
            ],
            "type": "heatmapgl"
           }
          ],
          "histogram": [
           {
            "marker": {
             "pattern": {
              "fillmode": "overlay",
              "size": 10,
              "solidity": 0.2
             }
            },
            "type": "histogram"
           }
          ],
          "histogram2d": [
           {
            "colorbar": {
             "outlinewidth": 0,
             "ticks": ""
            },
            "colorscale": [
             [
              0,
              "#0d0887"
             ],
             [
              0.1111111111111111,
              "#46039f"
             ],
             [
              0.2222222222222222,
              "#7201a8"
             ],
             [
              0.3333333333333333,
              "#9c179e"
             ],
             [
              0.4444444444444444,
              "#bd3786"
             ],
             [
              0.5555555555555556,
              "#d8576b"
             ],
             [
              0.6666666666666666,
              "#ed7953"
             ],
             [
              0.7777777777777778,
              "#fb9f3a"
             ],
             [
              0.8888888888888888,
              "#fdca26"
             ],
             [
              1,
              "#f0f921"
             ]
            ],
            "type": "histogram2d"
           }
          ],
          "histogram2dcontour": [
           {
            "colorbar": {
             "outlinewidth": 0,
             "ticks": ""
            },
            "colorscale": [
             [
              0,
              "#0d0887"
             ],
             [
              0.1111111111111111,
              "#46039f"
             ],
             [
              0.2222222222222222,
              "#7201a8"
             ],
             [
              0.3333333333333333,
              "#9c179e"
             ],
             [
              0.4444444444444444,
              "#bd3786"
             ],
             [
              0.5555555555555556,
              "#d8576b"
             ],
             [
              0.6666666666666666,
              "#ed7953"
             ],
             [
              0.7777777777777778,
              "#fb9f3a"
             ],
             [
              0.8888888888888888,
              "#fdca26"
             ],
             [
              1,
              "#f0f921"
             ]
            ],
            "type": "histogram2dcontour"
           }
          ],
          "mesh3d": [
           {
            "colorbar": {
             "outlinewidth": 0,
             "ticks": ""
            },
            "type": "mesh3d"
           }
          ],
          "parcoords": [
           {
            "line": {
             "colorbar": {
              "outlinewidth": 0,
              "ticks": ""
             }
            },
            "type": "parcoords"
           }
          ],
          "pie": [
           {
            "automargin": true,
            "type": "pie"
           }
          ],
          "scatter": [
           {
            "fillpattern": {
             "fillmode": "overlay",
             "size": 10,
             "solidity": 0.2
            },
            "type": "scatter"
           }
          ],
          "scatter3d": [
           {
            "line": {
             "colorbar": {
              "outlinewidth": 0,
              "ticks": ""
             }
            },
            "marker": {
             "colorbar": {
              "outlinewidth": 0,
              "ticks": ""
             }
            },
            "type": "scatter3d"
           }
          ],
          "scattercarpet": [
           {
            "marker": {
             "colorbar": {
              "outlinewidth": 0,
              "ticks": ""
             }
            },
            "type": "scattercarpet"
           }
          ],
          "scattergeo": [
           {
            "marker": {
             "colorbar": {
              "outlinewidth": 0,
              "ticks": ""
             }
            },
            "type": "scattergeo"
           }
          ],
          "scattergl": [
           {
            "marker": {
             "colorbar": {
              "outlinewidth": 0,
              "ticks": ""
             }
            },
            "type": "scattergl"
           }
          ],
          "scattermapbox": [
           {
            "marker": {
             "colorbar": {
              "outlinewidth": 0,
              "ticks": ""
             }
            },
            "type": "scattermapbox"
           }
          ],
          "scatterpolar": [
           {
            "marker": {
             "colorbar": {
              "outlinewidth": 0,
              "ticks": ""
             }
            },
            "type": "scatterpolar"
           }
          ],
          "scatterpolargl": [
           {
            "marker": {
             "colorbar": {
              "outlinewidth": 0,
              "ticks": ""
             }
            },
            "type": "scatterpolargl"
           }
          ],
          "scatterternary": [
           {
            "marker": {
             "colorbar": {
              "outlinewidth": 0,
              "ticks": ""
             }
            },
            "type": "scatterternary"
           }
          ],
          "surface": [
           {
            "colorbar": {
             "outlinewidth": 0,
             "ticks": ""
            },
            "colorscale": [
             [
              0,
              "#0d0887"
             ],
             [
              0.1111111111111111,
              "#46039f"
             ],
             [
              0.2222222222222222,
              "#7201a8"
             ],
             [
              0.3333333333333333,
              "#9c179e"
             ],
             [
              0.4444444444444444,
              "#bd3786"
             ],
             [
              0.5555555555555556,
              "#d8576b"
             ],
             [
              0.6666666666666666,
              "#ed7953"
             ],
             [
              0.7777777777777778,
              "#fb9f3a"
             ],
             [
              0.8888888888888888,
              "#fdca26"
             ],
             [
              1,
              "#f0f921"
             ]
            ],
            "type": "surface"
           }
          ],
          "table": [
           {
            "cells": {
             "fill": {
              "color": "#EBF0F8"
             },
             "line": {
              "color": "white"
             }
            },
            "header": {
             "fill": {
              "color": "#C8D4E3"
             },
             "line": {
              "color": "white"
             }
            },
            "type": "table"
           }
          ]
         },
         "layout": {
          "annotationdefaults": {
           "arrowcolor": "#2a3f5f",
           "arrowhead": 0,
           "arrowwidth": 1
          },
          "autotypenumbers": "strict",
          "coloraxis": {
           "colorbar": {
            "outlinewidth": 0,
            "ticks": ""
           }
          },
          "colorscale": {
           "diverging": [
            [
             0,
             "#8e0152"
            ],
            [
             0.1,
             "#c51b7d"
            ],
            [
             0.2,
             "#de77ae"
            ],
            [
             0.3,
             "#f1b6da"
            ],
            [
             0.4,
             "#fde0ef"
            ],
            [
             0.5,
             "#f7f7f7"
            ],
            [
             0.6,
             "#e6f5d0"
            ],
            [
             0.7,
             "#b8e186"
            ],
            [
             0.8,
             "#7fbc41"
            ],
            [
             0.9,
             "#4d9221"
            ],
            [
             1,
             "#276419"
            ]
           ],
           "sequential": [
            [
             0,
             "#0d0887"
            ],
            [
             0.1111111111111111,
             "#46039f"
            ],
            [
             0.2222222222222222,
             "#7201a8"
            ],
            [
             0.3333333333333333,
             "#9c179e"
            ],
            [
             0.4444444444444444,
             "#bd3786"
            ],
            [
             0.5555555555555556,
             "#d8576b"
            ],
            [
             0.6666666666666666,
             "#ed7953"
            ],
            [
             0.7777777777777778,
             "#fb9f3a"
            ],
            [
             0.8888888888888888,
             "#fdca26"
            ],
            [
             1,
             "#f0f921"
            ]
           ],
           "sequentialminus": [
            [
             0,
             "#0d0887"
            ],
            [
             0.1111111111111111,
             "#46039f"
            ],
            [
             0.2222222222222222,
             "#7201a8"
            ],
            [
             0.3333333333333333,
             "#9c179e"
            ],
            [
             0.4444444444444444,
             "#bd3786"
            ],
            [
             0.5555555555555556,
             "#d8576b"
            ],
            [
             0.6666666666666666,
             "#ed7953"
            ],
            [
             0.7777777777777778,
             "#fb9f3a"
            ],
            [
             0.8888888888888888,
             "#fdca26"
            ],
            [
             1,
             "#f0f921"
            ]
           ]
          },
          "colorway": [
           "#636efa",
           "#EF553B",
           "#00cc96",
           "#ab63fa",
           "#FFA15A",
           "#19d3f3",
           "#FF6692",
           "#B6E880",
           "#FF97FF",
           "#FECB52"
          ],
          "font": {
           "color": "#2a3f5f"
          },
          "geo": {
           "bgcolor": "white",
           "lakecolor": "white",
           "landcolor": "#E5ECF6",
           "showlakes": true,
           "showland": true,
           "subunitcolor": "white"
          },
          "hoverlabel": {
           "align": "left"
          },
          "hovermode": "closest",
          "mapbox": {
           "style": "light"
          },
          "paper_bgcolor": "white",
          "plot_bgcolor": "#E5ECF6",
          "polar": {
           "angularaxis": {
            "gridcolor": "white",
            "linecolor": "white",
            "ticks": ""
           },
           "bgcolor": "#E5ECF6",
           "radialaxis": {
            "gridcolor": "white",
            "linecolor": "white",
            "ticks": ""
           }
          },
          "scene": {
           "xaxis": {
            "backgroundcolor": "#E5ECF6",
            "gridcolor": "white",
            "gridwidth": 2,
            "linecolor": "white",
            "showbackground": true,
            "ticks": "",
            "zerolinecolor": "white"
           },
           "yaxis": {
            "backgroundcolor": "#E5ECF6",
            "gridcolor": "white",
            "gridwidth": 2,
            "linecolor": "white",
            "showbackground": true,
            "ticks": "",
            "zerolinecolor": "white"
           },
           "zaxis": {
            "backgroundcolor": "#E5ECF6",
            "gridcolor": "white",
            "gridwidth": 2,
            "linecolor": "white",
            "showbackground": true,
            "ticks": "",
            "zerolinecolor": "white"
           }
          },
          "shapedefaults": {
           "line": {
            "color": "#2a3f5f"
           }
          },
          "ternary": {
           "aaxis": {
            "gridcolor": "white",
            "linecolor": "white",
            "ticks": ""
           },
           "baxis": {
            "gridcolor": "white",
            "linecolor": "white",
            "ticks": ""
           },
           "bgcolor": "#E5ECF6",
           "caxis": {
            "gridcolor": "white",
            "linecolor": "white",
            "ticks": ""
           }
          },
          "title": {
           "x": 0.05
          },
          "xaxis": {
           "automargin": true,
           "gridcolor": "white",
           "linecolor": "white",
           "ticks": "",
           "title": {
            "standoff": 15
           },
           "zerolinecolor": "white",
           "zerolinewidth": 2
          },
          "yaxis": {
           "automargin": true,
           "gridcolor": "white",
           "linecolor": "white",
           "ticks": "",
           "title": {
            "standoff": 15
           },
           "zerolinecolor": "white",
           "zerolinewidth": 2
          }
         }
        },
        "title": {
         "text": "Number of Hotels by Sustainability Level"
        },
        "xaxis": {
         "anchor": "y",
         "domain": [
          0,
          1
         ],
         "title": {
          "text": "sustainable_level"
         }
        },
        "yaxis": {
         "anchor": "x",
         "domain": [
          0,
          1
         ],
         "title": {
          "text": "count"
         }
        }
       }
      }
     },
     "metadata": {},
     "output_type": "display_data"
    }
   ],
   "source": [
    "fig4.show()"
   ]
  },
  {
   "cell_type": "markdown",
   "metadata": {},
   "source": [
    "# Line Chart: Rating Changes of Top 10 Reviewed Hotels \n",
    "It looks like hotels with more reviews tend to have higher ratings. This could mean that hotels getting lots of reviews are often well-rated. More reviews might be a sign of a hotel's popularity and quality, leading to better ratings overall."
   ]
  },
  {
   "cell_type": "code",
   "execution_count": 171,
   "metadata": {},
   "outputs": [
    {
     "data": {
      "application/vnd.plotly.v1+json": {
       "config": {
        "plotlyServerURL": "https://plot.ly"
       },
       "data": [
        {
         "hovertemplate": "name=%{x}<br>rating=%{y}<extra></extra>",
         "legendgroup": "",
         "line": {
          "color": "#636efa",
          "dash": "solid"
         },
         "marker": {
          "symbol": "circle"
         },
         "mode": "lines",
         "name": "",
         "orientation": "v",
         "showlegend": false,
         "type": "scatter",
         "x": [
          "H2 Hotel Berlin-Alexanderplatz",
          "IntercityHotel Berlin Hauptbahnhof",
          "MEININGER Hotel Berlin Hauptbahnhof",
          "Hampton by Hilton Berlin City Centre Alexanderplatz",
          "Scandic Berlin Potsdamer Platz",
          "Hotel Berlin, Berlin, a member of Radisson Individuals",
          "Holiday Inn Express Berlin City Centre, an IHG Hotel",
          "Motel One Berlin-Alexanderplatz",
          "Leonardo Royal Hotel Berlin Alexanderplatz",
          "Leonardo Royal Hotel Berlin Alexanderplatz"
         ],
         "xaxis": "x",
         "y": [
          8.1,
          8.1,
          7.4,
          8.1,
          8.1,
          7.9,
          8.1,
          8.7,
          8.4,
          8.4
         ],
         "yaxis": "y"
        }
       ],
       "layout": {
        "legend": {
         "tracegroupgap": 0
        },
        "template": {
         "data": {
          "bar": [
           {
            "error_x": {
             "color": "#2a3f5f"
            },
            "error_y": {
             "color": "#2a3f5f"
            },
            "marker": {
             "line": {
              "color": "#E5ECF6",
              "width": 0.5
             },
             "pattern": {
              "fillmode": "overlay",
              "size": 10,
              "solidity": 0.2
             }
            },
            "type": "bar"
           }
          ],
          "barpolar": [
           {
            "marker": {
             "line": {
              "color": "#E5ECF6",
              "width": 0.5
             },
             "pattern": {
              "fillmode": "overlay",
              "size": 10,
              "solidity": 0.2
             }
            },
            "type": "barpolar"
           }
          ],
          "carpet": [
           {
            "aaxis": {
             "endlinecolor": "#2a3f5f",
             "gridcolor": "white",
             "linecolor": "white",
             "minorgridcolor": "white",
             "startlinecolor": "#2a3f5f"
            },
            "baxis": {
             "endlinecolor": "#2a3f5f",
             "gridcolor": "white",
             "linecolor": "white",
             "minorgridcolor": "white",
             "startlinecolor": "#2a3f5f"
            },
            "type": "carpet"
           }
          ],
          "choropleth": [
           {
            "colorbar": {
             "outlinewidth": 0,
             "ticks": ""
            },
            "type": "choropleth"
           }
          ],
          "contour": [
           {
            "colorbar": {
             "outlinewidth": 0,
             "ticks": ""
            },
            "colorscale": [
             [
              0,
              "#0d0887"
             ],
             [
              0.1111111111111111,
              "#46039f"
             ],
             [
              0.2222222222222222,
              "#7201a8"
             ],
             [
              0.3333333333333333,
              "#9c179e"
             ],
             [
              0.4444444444444444,
              "#bd3786"
             ],
             [
              0.5555555555555556,
              "#d8576b"
             ],
             [
              0.6666666666666666,
              "#ed7953"
             ],
             [
              0.7777777777777778,
              "#fb9f3a"
             ],
             [
              0.8888888888888888,
              "#fdca26"
             ],
             [
              1,
              "#f0f921"
             ]
            ],
            "type": "contour"
           }
          ],
          "contourcarpet": [
           {
            "colorbar": {
             "outlinewidth": 0,
             "ticks": ""
            },
            "type": "contourcarpet"
           }
          ],
          "heatmap": [
           {
            "colorbar": {
             "outlinewidth": 0,
             "ticks": ""
            },
            "colorscale": [
             [
              0,
              "#0d0887"
             ],
             [
              0.1111111111111111,
              "#46039f"
             ],
             [
              0.2222222222222222,
              "#7201a8"
             ],
             [
              0.3333333333333333,
              "#9c179e"
             ],
             [
              0.4444444444444444,
              "#bd3786"
             ],
             [
              0.5555555555555556,
              "#d8576b"
             ],
             [
              0.6666666666666666,
              "#ed7953"
             ],
             [
              0.7777777777777778,
              "#fb9f3a"
             ],
             [
              0.8888888888888888,
              "#fdca26"
             ],
             [
              1,
              "#f0f921"
             ]
            ],
            "type": "heatmap"
           }
          ],
          "heatmapgl": [
           {
            "colorbar": {
             "outlinewidth": 0,
             "ticks": ""
            },
            "colorscale": [
             [
              0,
              "#0d0887"
             ],
             [
              0.1111111111111111,
              "#46039f"
             ],
             [
              0.2222222222222222,
              "#7201a8"
             ],
             [
              0.3333333333333333,
              "#9c179e"
             ],
             [
              0.4444444444444444,
              "#bd3786"
             ],
             [
              0.5555555555555556,
              "#d8576b"
             ],
             [
              0.6666666666666666,
              "#ed7953"
             ],
             [
              0.7777777777777778,
              "#fb9f3a"
             ],
             [
              0.8888888888888888,
              "#fdca26"
             ],
             [
              1,
              "#f0f921"
             ]
            ],
            "type": "heatmapgl"
           }
          ],
          "histogram": [
           {
            "marker": {
             "pattern": {
              "fillmode": "overlay",
              "size": 10,
              "solidity": 0.2
             }
            },
            "type": "histogram"
           }
          ],
          "histogram2d": [
           {
            "colorbar": {
             "outlinewidth": 0,
             "ticks": ""
            },
            "colorscale": [
             [
              0,
              "#0d0887"
             ],
             [
              0.1111111111111111,
              "#46039f"
             ],
             [
              0.2222222222222222,
              "#7201a8"
             ],
             [
              0.3333333333333333,
              "#9c179e"
             ],
             [
              0.4444444444444444,
              "#bd3786"
             ],
             [
              0.5555555555555556,
              "#d8576b"
             ],
             [
              0.6666666666666666,
              "#ed7953"
             ],
             [
              0.7777777777777778,
              "#fb9f3a"
             ],
             [
              0.8888888888888888,
              "#fdca26"
             ],
             [
              1,
              "#f0f921"
             ]
            ],
            "type": "histogram2d"
           }
          ],
          "histogram2dcontour": [
           {
            "colorbar": {
             "outlinewidth": 0,
             "ticks": ""
            },
            "colorscale": [
             [
              0,
              "#0d0887"
             ],
             [
              0.1111111111111111,
              "#46039f"
             ],
             [
              0.2222222222222222,
              "#7201a8"
             ],
             [
              0.3333333333333333,
              "#9c179e"
             ],
             [
              0.4444444444444444,
              "#bd3786"
             ],
             [
              0.5555555555555556,
              "#d8576b"
             ],
             [
              0.6666666666666666,
              "#ed7953"
             ],
             [
              0.7777777777777778,
              "#fb9f3a"
             ],
             [
              0.8888888888888888,
              "#fdca26"
             ],
             [
              1,
              "#f0f921"
             ]
            ],
            "type": "histogram2dcontour"
           }
          ],
          "mesh3d": [
           {
            "colorbar": {
             "outlinewidth": 0,
             "ticks": ""
            },
            "type": "mesh3d"
           }
          ],
          "parcoords": [
           {
            "line": {
             "colorbar": {
              "outlinewidth": 0,
              "ticks": ""
             }
            },
            "type": "parcoords"
           }
          ],
          "pie": [
           {
            "automargin": true,
            "type": "pie"
           }
          ],
          "scatter": [
           {
            "fillpattern": {
             "fillmode": "overlay",
             "size": 10,
             "solidity": 0.2
            },
            "type": "scatter"
           }
          ],
          "scatter3d": [
           {
            "line": {
             "colorbar": {
              "outlinewidth": 0,
              "ticks": ""
             }
            },
            "marker": {
             "colorbar": {
              "outlinewidth": 0,
              "ticks": ""
             }
            },
            "type": "scatter3d"
           }
          ],
          "scattercarpet": [
           {
            "marker": {
             "colorbar": {
              "outlinewidth": 0,
              "ticks": ""
             }
            },
            "type": "scattercarpet"
           }
          ],
          "scattergeo": [
           {
            "marker": {
             "colorbar": {
              "outlinewidth": 0,
              "ticks": ""
             }
            },
            "type": "scattergeo"
           }
          ],
          "scattergl": [
           {
            "marker": {
             "colorbar": {
              "outlinewidth": 0,
              "ticks": ""
             }
            },
            "type": "scattergl"
           }
          ],
          "scattermapbox": [
           {
            "marker": {
             "colorbar": {
              "outlinewidth": 0,
              "ticks": ""
             }
            },
            "type": "scattermapbox"
           }
          ],
          "scatterpolar": [
           {
            "marker": {
             "colorbar": {
              "outlinewidth": 0,
              "ticks": ""
             }
            },
            "type": "scatterpolar"
           }
          ],
          "scatterpolargl": [
           {
            "marker": {
             "colorbar": {
              "outlinewidth": 0,
              "ticks": ""
             }
            },
            "type": "scatterpolargl"
           }
          ],
          "scatterternary": [
           {
            "marker": {
             "colorbar": {
              "outlinewidth": 0,
              "ticks": ""
             }
            },
            "type": "scatterternary"
           }
          ],
          "surface": [
           {
            "colorbar": {
             "outlinewidth": 0,
             "ticks": ""
            },
            "colorscale": [
             [
              0,
              "#0d0887"
             ],
             [
              0.1111111111111111,
              "#46039f"
             ],
             [
              0.2222222222222222,
              "#7201a8"
             ],
             [
              0.3333333333333333,
              "#9c179e"
             ],
             [
              0.4444444444444444,
              "#bd3786"
             ],
             [
              0.5555555555555556,
              "#d8576b"
             ],
             [
              0.6666666666666666,
              "#ed7953"
             ],
             [
              0.7777777777777778,
              "#fb9f3a"
             ],
             [
              0.8888888888888888,
              "#fdca26"
             ],
             [
              1,
              "#f0f921"
             ]
            ],
            "type": "surface"
           }
          ],
          "table": [
           {
            "cells": {
             "fill": {
              "color": "#EBF0F8"
             },
             "line": {
              "color": "white"
             }
            },
            "header": {
             "fill": {
              "color": "#C8D4E3"
             },
             "line": {
              "color": "white"
             }
            },
            "type": "table"
           }
          ]
         },
         "layout": {
          "annotationdefaults": {
           "arrowcolor": "#2a3f5f",
           "arrowhead": 0,
           "arrowwidth": 1
          },
          "autotypenumbers": "strict",
          "coloraxis": {
           "colorbar": {
            "outlinewidth": 0,
            "ticks": ""
           }
          },
          "colorscale": {
           "diverging": [
            [
             0,
             "#8e0152"
            ],
            [
             0.1,
             "#c51b7d"
            ],
            [
             0.2,
             "#de77ae"
            ],
            [
             0.3,
             "#f1b6da"
            ],
            [
             0.4,
             "#fde0ef"
            ],
            [
             0.5,
             "#f7f7f7"
            ],
            [
             0.6,
             "#e6f5d0"
            ],
            [
             0.7,
             "#b8e186"
            ],
            [
             0.8,
             "#7fbc41"
            ],
            [
             0.9,
             "#4d9221"
            ],
            [
             1,
             "#276419"
            ]
           ],
           "sequential": [
            [
             0,
             "#0d0887"
            ],
            [
             0.1111111111111111,
             "#46039f"
            ],
            [
             0.2222222222222222,
             "#7201a8"
            ],
            [
             0.3333333333333333,
             "#9c179e"
            ],
            [
             0.4444444444444444,
             "#bd3786"
            ],
            [
             0.5555555555555556,
             "#d8576b"
            ],
            [
             0.6666666666666666,
             "#ed7953"
            ],
            [
             0.7777777777777778,
             "#fb9f3a"
            ],
            [
             0.8888888888888888,
             "#fdca26"
            ],
            [
             1,
             "#f0f921"
            ]
           ],
           "sequentialminus": [
            [
             0,
             "#0d0887"
            ],
            [
             0.1111111111111111,
             "#46039f"
            ],
            [
             0.2222222222222222,
             "#7201a8"
            ],
            [
             0.3333333333333333,
             "#9c179e"
            ],
            [
             0.4444444444444444,
             "#bd3786"
            ],
            [
             0.5555555555555556,
             "#d8576b"
            ],
            [
             0.6666666666666666,
             "#ed7953"
            ],
            [
             0.7777777777777778,
             "#fb9f3a"
            ],
            [
             0.8888888888888888,
             "#fdca26"
            ],
            [
             1,
             "#f0f921"
            ]
           ]
          },
          "colorway": [
           "#636efa",
           "#EF553B",
           "#00cc96",
           "#ab63fa",
           "#FFA15A",
           "#19d3f3",
           "#FF6692",
           "#B6E880",
           "#FF97FF",
           "#FECB52"
          ],
          "font": {
           "color": "#2a3f5f"
          },
          "geo": {
           "bgcolor": "white",
           "lakecolor": "white",
           "landcolor": "#E5ECF6",
           "showlakes": true,
           "showland": true,
           "subunitcolor": "white"
          },
          "hoverlabel": {
           "align": "left"
          },
          "hovermode": "closest",
          "mapbox": {
           "style": "light"
          },
          "paper_bgcolor": "white",
          "plot_bgcolor": "#E5ECF6",
          "polar": {
           "angularaxis": {
            "gridcolor": "white",
            "linecolor": "white",
            "ticks": ""
           },
           "bgcolor": "#E5ECF6",
           "radialaxis": {
            "gridcolor": "white",
            "linecolor": "white",
            "ticks": ""
           }
          },
          "scene": {
           "xaxis": {
            "backgroundcolor": "#E5ECF6",
            "gridcolor": "white",
            "gridwidth": 2,
            "linecolor": "white",
            "showbackground": true,
            "ticks": "",
            "zerolinecolor": "white"
           },
           "yaxis": {
            "backgroundcolor": "#E5ECF6",
            "gridcolor": "white",
            "gridwidth": 2,
            "linecolor": "white",
            "showbackground": true,
            "ticks": "",
            "zerolinecolor": "white"
           },
           "zaxis": {
            "backgroundcolor": "#E5ECF6",
            "gridcolor": "white",
            "gridwidth": 2,
            "linecolor": "white",
            "showbackground": true,
            "ticks": "",
            "zerolinecolor": "white"
           }
          },
          "shapedefaults": {
           "line": {
            "color": "#2a3f5f"
           }
          },
          "ternary": {
           "aaxis": {
            "gridcolor": "white",
            "linecolor": "white",
            "ticks": ""
           },
           "baxis": {
            "gridcolor": "white",
            "linecolor": "white",
            "ticks": ""
           },
           "bgcolor": "#E5ECF6",
           "caxis": {
            "gridcolor": "white",
            "linecolor": "white",
            "ticks": ""
           }
          },
          "title": {
           "x": 0.05
          },
          "xaxis": {
           "automargin": true,
           "gridcolor": "white",
           "linecolor": "white",
           "ticks": "",
           "title": {
            "standoff": 15
           },
           "zerolinecolor": "white",
           "zerolinewidth": 2
          },
          "yaxis": {
           "automargin": true,
           "gridcolor": "white",
           "linecolor": "white",
           "ticks": "",
           "title": {
            "standoff": 15
           },
           "zerolinecolor": "white",
           "zerolinewidth": 2
          }
         }
        },
        "title": {
         "text": "Rating Changes of Top 10 Reviewed Hotels"
        },
        "xaxis": {
         "anchor": "y",
         "domain": [
          0,
          1
         ],
         "title": {
          "text": "name"
         }
        },
        "yaxis": {
         "anchor": "x",
         "domain": [
          0,
          1
         ],
         "title": {
          "text": "rating"
         }
        }
       }
      }
     },
     "metadata": {},
     "output_type": "display_data"
    }
   ],
   "source": [
    "fig5.show()"
   ]
  }
 ],
 "metadata": {
  "kernelspec": {
   "display_name": "Python 3",
   "language": "python",
   "name": "python3"
  },
  "language_info": {
   "codemirror_mode": {
    "name": "ipython",
    "version": 3
   },
   "file_extension": ".py",
   "mimetype": "text/x-python",
   "name": "python",
   "nbconvert_exporter": "python",
   "pygments_lexer": "ipython3",
   "version": "3.10.3"
  },
  "orig_nbformat": 4
 },
 "nbformat": 4,
 "nbformat_minor": 2
}
